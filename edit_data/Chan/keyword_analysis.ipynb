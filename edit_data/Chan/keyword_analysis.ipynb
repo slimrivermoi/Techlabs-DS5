{
 "cells": [
  {
   "cell_type": "code",
   "execution_count": null,
   "metadata": {},
   "outputs": [],
   "source": [
    "import pandas as pd\n",
    "import numpy as np\n",
    "import matplotlib.pylab as plt\n",
    "import seaborn as sns\n",
    "import json\n",
    "import re\n",
    "import nltk\n",
    "import ast"
   ]
  },
  {
   "cell_type": "code",
   "execution_count": null,
   "metadata": {},
   "outputs": [],
   "source": [
    "df = pd.read_csv(\"source_data/keywords.csv\")\n",
    "pd.set_option('display.max_colwidth', None)  # Display all column content\n",
    "\n",
    "df.head()"
   ]
  },
  {
   "cell_type": "code",
   "execution_count": null,
   "metadata": {},
   "outputs": [],
   "source": [
    "df.shape"
   ]
  },
  {
   "cell_type": "markdown",
   "metadata": {},
   "source": [
    "**LEE's METHOD**"
   ]
  },
  {
   "cell_type": "code",
   "execution_count": null,
   "metadata": {},
   "outputs": [],
   "source": [
    "\n",
    "# Function to parse the string and extract names\n",
    "def extract_names(keyword_string):\n",
    "    # Safely evaluate the string to a Python object\n",
    "    keyword_list = ast.literal_eval(keyword_string)\n",
    "    # Extract names\n",
    "    names = [keyword['name'] for keyword in keyword_list]\n",
    "    return names\n",
    "\n",
    "# Apply the function to the DataFrame\n",
    "df['names'] = df['keywords'].apply(extract_names)\n",
    "\n",
    "# Display the DataFrame\n",
    "df.head(4)"
   ]
  },
  {
   "cell_type": "markdown",
   "metadata": {},
   "source": [
    "**MODEL THAT LETS FIND TARGET KEYWORD IN ALL OF THE DATA**"
   ]
  },
  {
   "cell_type": "markdown",
   "metadata": {},
   "source": [
    "**STEP 1: PARSE THE KEYWORDS IN \"keywords_df\"**"
   ]
  },
  {
   "cell_type": "code",
   "execution_count": null,
   "metadata": {},
   "outputs": [],
   "source": [
    "# Function to extract keywords from the \"keywords\" column\n",
    "def extract_keywords(keyword_str):\n",
    "    try:\n",
    "        keyword_list = ast.literal_eval(keyword_str)\n",
    "        return [keyword[\"name\"] for keyword in keyword_list]\n",
    "    except (ValueError, SyntaxError):\n",
    "        return[]\n",
    "\n",
    "# Apply the function to extract keywords\n",
    "df[\"Keywords\"] = df[\"keywords\"].apply(extract_keywords)"
   ]
  },
  {
   "cell_type": "markdown",
   "metadata": {},
   "source": [
    "**STEP 2: USE REGEX TO FILTER THE KEYWORDS**"
   ]
  },
  {
   "cell_type": "code",
   "execution_count": null,
   "metadata": {},
   "outputs": [],
   "source": [
    "# Define a fucntion to check if the target keyword is in the list of keywords\n",
    "def contains_target_keyword(keywords_list, target):\n",
    "    pattern = rf\"\\b{target}\\b\"\n",
    "    return any(pd.Series(keywords_list).str.contains(pattern, regex=True, case=False, na=False))\n",
    "               \n",
    "               \n",
    "# Check for presence of target keyword in the extracted keywords\n",
    "target_keyword = \"toy\"\n",
    "df[\"contains_target\"] = df[\"keywords_extracted\"].apply(contains_target_keyword, target=target_keyword)            "
   ]
  },
  {
   "cell_type": "code",
   "execution_count": null,
   "metadata": {},
   "outputs": [],
   "source": [
    "df.drop(columns={\"Keywords\"}, inplace=True)"
   ]
  },
  {
   "cell_type": "code",
   "execution_count": null,
   "metadata": {},
   "outputs": [],
   "source": [
    "df.head()"
   ]
  },
  {
   "cell_type": "markdown",
   "metadata": {},
   "source": [
    "**REGEX METHOD NO.2**"
   ]
  },
  {
   "cell_type": "markdown",
   "metadata": {},
   "source": [
    "**STEP 1: Extract Keywords**"
   ]
  },
  {
   "cell_type": "code",
   "execution_count": 76,
   "metadata": {},
   "outputs": [],
   "source": [
    "import ast\n",
    "from collections import Counter\n",
    "\n",
    "keywords_df = pd.read_csv(\"source_data/keywords.csv\")\n",
    "\n",
    "# Parse the JSON-like string in the 'keywords' column\n",
    "def parse_keywords(data):\n",
    "    try:\n",
    "        return ast.literal_eval(data)\n",
    "    except ValueError:\n",
    "        return[] # return an empty list if there's an error\n",
    "    \n",
    "# Apply the function to extract keywords\n",
    "keywords_df[\"keywords_parsed\"] = keywords_df[\"keywords\"].apply(parse_keywords)"
   ]
  },
  {
   "cell_type": "code",
   "execution_count": 77,
   "metadata": {},
   "outputs": [],
   "source": [
    "# Extract the keywords names\n",
    "def extract_keywords(data):\n",
    "    return [d[\"name\"] for d in data if \"name\" in d]\n",
    "\n",
    "keywords_df['keywords_list'] = keywords_df['keywords_parsed'].apply(extract_keywords)"
   ]
  },
  {
   "cell_type": "markdown",
   "metadata": {},
   "source": [
    "**STEP 2: COUNT KEYWORD FREQUENCY**"
   ]
  },
  {
   "cell_type": "code",
   "execution_count": 78,
   "metadata": {},
   "outputs": [
    {
     "name": "stdout",
     "output_type": "stream",
     "text": [
      "[('woman director', 3115), ('independent film', 1930), ('murder', 1308), ('based on novel', 835), ('musical', 734), ('sex', 685), ('violence', 651), ('nudity', 636), ('biography', 629), ('revenge', 626), ('suspense', 590), ('love', 574), ('female nudity', 563), ('sport', 544), ('police', 454), ('teenager', 441), ('duringcreditsstinger', 440), ('sequel', 439), ('friendship', 411), ('world war ii', 394)]\n"
     ]
    }
   ],
   "source": [
    "# Flatten the list of keywords and count the occurrences\n",
    "all_keywords = [keyword for sublist in keywords_df['keywords_list'] for keyword in sublist]\n",
    "keyword_counts = Counter(all_keywords)\n",
    "\n",
    "# Display the most common keywords\n",
    "print(keyword_counts.most_common(20))\n"
   ]
  },
  {
   "cell_type": "code",
   "execution_count": 80,
   "metadata": {},
   "outputs": [
    {
     "name": "stdout",
     "output_type": "stream",
     "text": [
      "Top 20 Keywords and Their Counts:\n",
      "woman director: 3115\n",
      "independent film: 1930\n",
      "murder: 1308\n",
      "based on novel: 835\n",
      "musical: 734\n",
      "sex: 685\n",
      "violence: 651\n",
      "nudity: 636\n",
      "biography: 629\n",
      "revenge: 626\n",
      "suspense: 590\n",
      "love: 574\n",
      "female nudity: 563\n",
      "sport: 544\n",
      "police: 454\n",
      "teenager: 441\n",
      "duringcreditsstinger: 440\n",
      "sequel: 439\n",
      "friendship: 411\n",
      "world war ii: 394\n"
     ]
    }
   ],
   "source": [
    "# Assuming 'all_keywords' is a list of all keywords extracted from your dataset\n",
    "keyword_counts = Counter(all_keywords)\n",
    "top_20_keywords = keyword_counts.most_common(20)\n",
    "\n",
    "print(\"Top 20 Keywords and Their Counts:\")\n",
    "for keyword, count in top_20_keywords:\n",
    "    print(f\"{keyword}: {count}\")"
   ]
  },
  {
   "cell_type": "markdown",
   "metadata": {},
   "source": [
    "**Plot Top 20 Keywords**"
   ]
  },
  {
   "cell_type": "code",
   "execution_count": 81,
   "metadata": {},
   "outputs": [
    {
     "data": {
      "image/png": "[encoded data removed]",
      "text/plain": [
       "<Figure size 1000x800 with 1 Axes>"
      ]
     },
     "metadata": {},
     "output_type": "display_data"
    }
   ],
   "source": [
    "import matplotlib.pyplot as plt\n",
    "\n",
    "# Get the top 20 keywords and their counts\n",
    "top_20_keywords = keyword_counts.most_common(20)\n",
    "keywords, counts = zip(*top_20_keywords)  # This unpacks the keywords and their counts into separate lists\n",
    "\n",
    "plt.figure(figsize=(10, 8))\n",
    "plt.barh(keywords, counts, color='skyblue')\n",
    "plt.xlabel('Frequency')\n",
    "plt.ylabel('Keywords')\n",
    "plt.title('Top 20 Keywords in the Dataset')\n",
    "plt.gca().invert_yaxis()  # Invert y-axis to have the highest counts at the top\n",
    "plt.show()\n"
   ]
  },
  {
   "cell_type": "markdown",
   "metadata": {},
   "source": [
    "**FILTERED KEYWORDS BY \"LOVE\"**\n"
   ]
  },
  {
   "cell_type": "markdown",
   "metadata": {},
   "source": [
    "**FILTER AND DISPLAY RESULTS**"
   ]
  },
  {
   "cell_type": "code",
   "execution_count": 79,
   "metadata": {},
   "outputs": [
    {
     "name": "stdout",
     "output_type": "stream",
     "text": [
      "{'new love': 110, 'love at first sight': 31, 'lovesickness': 48, 'gloves': 5, 'love': 574, 'forbidden love': 49, 'star crossed lovers': 12, 'love triangle': 153, 'free love': 25, \"love of one's life\": 107, 'love letter': 20, 'secret love': 44, 'falling in love': 81, 'in love with enemy': 14, 'true love': 7, 'first love': 28, 'tragic love': 24, 'lover (female)': 28, 'h.p. lovecraft': 16, 'lover': 53, 'unrequited love': 42, 'obsessive love': 7, 'loss of lover': 44, 'motherly love': 15, 'love spell': 1, 'unlikely lovers': 3, 'love quadrangle': 1, 'impossible love': 7, 'the love bug': 3, 'nun in love': 1, 'ex-lover': 17, 'teenage love': 17, 'love and romance': 5, 'platonic love': 6, 'lovebird': 1, 'lovers': 49, 'interracial love': 3, 'young love': 23, 'loss of loved one': 6, 'love affair': 31, 'dead lover': 2, 'eternal love': 2, 'one-sided love': 12, 'lost love': 7, 'love sickness': 4, 'love crime': 2, 'best friends in love': 12, 'black gloved killer': 3, 'baron love': 1, 'lovesick': 3, 'love story': 8, 'tragic love story': 2, 'animal lover': 5, 'searching for love': 2, 'white gloves': 2, 'tough love': 2, 'baseball glove': 1, 'lovelorn': 1, 'loveless marriage': 5, 'black gloves': 2, 'music lover': 6, 'unspoken love': 4, 'secret lover': 2, 'fall in love': 5, 'lovers lane': 2, 'illicit love': 1, 'puppy love': 3, 'love of animals': 5, 'unfulfilled love': 2, 'love letters': 1, 'love-hate relationship': 2, 'brothers love same woman': 2, 'love nest': 1, 'pretended love': 1, 'love interest': 6, 'death of lover': 5, 'love after marriage': 1, 'love tested': 1, 'mother love': 1, 'young lovers': 1, 'love drama': 2, 'doomed love': 1, 'slovenia': 3, 'manipulative lover': 1, 'summer of love': 1, 'love for wife': 1, 'oblivious to woman who loves him': 1, 'self love': 1, 'declaration of love': 1, 'runaway lovers': 1, 'lovecraftian': 3, 'finding love': 2, 'love potion': 3, 'power glove': 1, 'love child': 1, 'accidental love': 1, 'love hotel': 1, 'college love': 1, 'looking for love': 1, 'cat lover': 1, 'childhood love': 1, 'loveless': 1, 'interracial lovers': 1}\n"
     ]
    }
   ],
   "source": [
    "import re\n",
    "\n",
    "# Filter keywords by a regex pattern\n",
    "pattern = re.compile(r'love', re.IGNORECASE)  # adjust pattern as needed\n",
    "\n",
    "# Filter the counted keywords using the pattern\n",
    "filtered_keywords = {word: count for word, count in keyword_counts.items() if pattern.search(word)}\n",
    "\n",
    "# Display filtered keywords and their counts\n",
    "print(filtered_keywords)\n"
   ]
  }
 ],
 "metadata": {
  "kernelspec": {
   "display_name": "Python 3",
   "language": "python",
   "name": "python3"
  },
  "language_info": {
   "codemirror_mode": {
    "name": "ipython",
    "version": 3
   },
   "file_extension": ".py",
   "mimetype": "text/x-python",
   "name": "python",
   "nbconvert_exporter": "python",
   "pygments_lexer": "ipython3",
   "version": "3.12.4"
  }
 },
 "nbformat": 4,
 "nbformat_minor": 2
}
