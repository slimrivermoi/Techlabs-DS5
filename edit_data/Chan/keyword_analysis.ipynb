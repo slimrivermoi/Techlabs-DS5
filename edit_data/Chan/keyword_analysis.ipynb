{
 "cells": [
  {
   "cell_type": "code",
   "execution_count": 5,
   "metadata": {},
   "outputs": [],
   "source": [
    "import pandas as pd\n",
    "import numpy as np\n",
    "import matplotlib.pylab as plt\n",
    "import seaborn as sns\n",
    "import json\n",
    "import re\n",
    "import nltk\n",
    "import ast"
   ]
  },
  {
   "cell_type": "code",
   "execution_count": 2,
   "metadata": {},
   "outputs": [
    {
     "data": {
      "text/html": [
       "<div>\n",
       "<style scoped>\n",
       "    .dataframe tbody tr th:only-of-type {\n",
       "        vertical-align: middle;\n",
       "    }\n",
       "\n",
       "    .dataframe tbody tr th {\n",
       "        vertical-align: top;\n",
       "    }\n",
       "\n",
       "    .dataframe thead th {\n",
       "        text-align: right;\n",
       "    }\n",
       "</style>\n",
       "<table border=\"1\" class=\"dataframe\">\n",
       "  <thead>\n",
       "    <tr style=\"text-align: right;\">\n",
       "      <th></th>\n",
       "      <th>id</th>\n",
       "      <th>keywords</th>\n",
       "    </tr>\n",
       "  </thead>\n",
       "  <tbody>\n",
       "    <tr>\n",
       "      <th>0</th>\n",
       "      <td>862</td>\n",
       "      <td>[{'id': 931, 'name': 'jealousy'}, {'id': 4290, 'name': 'toy'}, {'id': 5202, 'name': 'boy'}, {'id': 6054, 'name': 'friendship'}, {'id': 9713, 'name': 'friends'}, {'id': 9823, 'name': 'rivalry'}, {'id': 165503, 'name': 'boy next door'}, {'id': 170722, 'name': 'new toy'}, {'id': 187065, 'name': 'toy comes to life'}]</td>\n",
       "    </tr>\n",
       "    <tr>\n",
       "      <th>1</th>\n",
       "      <td>8844</td>\n",
       "      <td>[{'id': 10090, 'name': 'board game'}, {'id': 10941, 'name': 'disappearance'}, {'id': 15101, 'name': \"based on children's book\"}, {'id': 33467, 'name': 'new home'}, {'id': 158086, 'name': 'recluse'}, {'id': 158091, 'name': 'giant insect'}]</td>\n",
       "    </tr>\n",
       "    <tr>\n",
       "      <th>2</th>\n",
       "      <td>15602</td>\n",
       "      <td>[{'id': 1495, 'name': 'fishing'}, {'id': 12392, 'name': 'best friend'}, {'id': 179431, 'name': 'duringcreditsstinger'}, {'id': 208510, 'name': 'old men'}]</td>\n",
       "    </tr>\n",
       "    <tr>\n",
       "      <th>3</th>\n",
       "      <td>31357</td>\n",
       "      <td>[{'id': 818, 'name': 'based on novel'}, {'id': 10131, 'name': 'interracial relationship'}, {'id': 14768, 'name': 'single mother'}, {'id': 15160, 'name': 'divorce'}, {'id': 33455, 'name': 'chick flick'}]</td>\n",
       "    </tr>\n",
       "    <tr>\n",
       "      <th>4</th>\n",
       "      <td>11862</td>\n",
       "      <td>[{'id': 1009, 'name': 'baby'}, {'id': 1599, 'name': 'midlife crisis'}, {'id': 2246, 'name': 'confidence'}, {'id': 4995, 'name': 'aging'}, {'id': 5600, 'name': 'daughter'}, {'id': 10707, 'name': 'mother daughter relationship'}, {'id': 13149, 'name': 'pregnancy'}, {'id': 33358, 'name': 'contraception'}, {'id': 170521, 'name': 'gynecologist'}]</td>\n",
       "    </tr>\n",
       "  </tbody>\n",
       "</table>\n",
       "</div>"
      ],
      "text/plain": [
       "      id  \\\n",
       "0    862   \n",
       "1   8844   \n",
       "2  15602   \n",
       "3  31357   \n",
       "4  11862   \n",
       "\n",
       "                                                                                                                                                                                                                                                                                                                                                 keywords  \n",
       "0                              [{'id': 931, 'name': 'jealousy'}, {'id': 4290, 'name': 'toy'}, {'id': 5202, 'name': 'boy'}, {'id': 6054, 'name': 'friendship'}, {'id': 9713, 'name': 'friends'}, {'id': 9823, 'name': 'rivalry'}, {'id': 165503, 'name': 'boy next door'}, {'id': 170722, 'name': 'new toy'}, {'id': 187065, 'name': 'toy comes to life'}]  \n",
       "1                                                                                                          [{'id': 10090, 'name': 'board game'}, {'id': 10941, 'name': 'disappearance'}, {'id': 15101, 'name': \"based on children's book\"}, {'id': 33467, 'name': 'new home'}, {'id': 158086, 'name': 'recluse'}, {'id': 158091, 'name': 'giant insect'}]  \n",
       "2                                                                                                                                                                                              [{'id': 1495, 'name': 'fishing'}, {'id': 12392, 'name': 'best friend'}, {'id': 179431, 'name': 'duringcreditsstinger'}, {'id': 208510, 'name': 'old men'}]  \n",
       "3                                                                                                                                              [{'id': 818, 'name': 'based on novel'}, {'id': 10131, 'name': 'interracial relationship'}, {'id': 14768, 'name': 'single mother'}, {'id': 15160, 'name': 'divorce'}, {'id': 33455, 'name': 'chick flick'}]  \n",
       "4  [{'id': 1009, 'name': 'baby'}, {'id': 1599, 'name': 'midlife crisis'}, {'id': 2246, 'name': 'confidence'}, {'id': 4995, 'name': 'aging'}, {'id': 5600, 'name': 'daughter'}, {'id': 10707, 'name': 'mother daughter relationship'}, {'id': 13149, 'name': 'pregnancy'}, {'id': 33358, 'name': 'contraception'}, {'id': 170521, 'name': 'gynecologist'}]  "
      ]
     },
     "execution_count": 2,
     "metadata": {},
     "output_type": "execute_result"
    }
   ],
   "source": [
    "df = pd.read_csv(\"source_data/keywords.csv\")\n",
    "pd.set_option('display.max_colwidth', None)  # Display all column content\n",
    "\n",
    "df.head()"
   ]
  },
  {
   "cell_type": "code",
   "execution_count": 3,
   "metadata": {},
   "outputs": [
    {
     "data": {
      "text/plain": [
       "(46419, 2)"
      ]
     },
     "execution_count": 3,
     "metadata": {},
     "output_type": "execute_result"
    }
   ],
   "source": [
    "df.shape"
   ]
  },
  {
   "cell_type": "markdown",
   "metadata": {},
   "source": [
    "**PARSE JSON INTO STRING FOR KEYWORDS**"
   ]
  },
  {
   "cell_type": "code",
   "execution_count": null,
   "metadata": {},
   "outputs": [],
   "source": [
    "# if \"keywords\" in df.columns:\n",
    "#     keyword = df.keywords.iloc[1]\n",
    "#     keyword = keyword.replace(\"\\'\", \"\\\"\")\n",
    "#     try:\n",
    "#         y = json.loads(keyword)\n",
    "#         print(y[0][\"id\"])\n",
    "#         for item in y: \n",
    "#             print(item)\n",
    "#     except json.JSONDecodeError as e:\n",
    "#         pass"
   ]
  },
  {
   "cell_type": "markdown",
   "metadata": {},
   "source": [
    "**Parsing Function**"
   ]
  },
  {
   "cell_type": "code",
   "execution_count": null,
   "metadata": {},
   "outputs": [],
   "source": [
    "# def parse_keywords(keywords_str):\n",
    "#     if isinstance(keywords_str, str): # Check if the input is a string\n",
    "#         try:\n",
    "#             keywords_str = keywords_str.replace(\"'\", \"\\\"\") # Replace single quotes with double quotes\n",
    "#             keywords = json.loads(keywords_str) # Load the JSON data\n",
    "#             if isinstance(keywords, list): # Ensure the parsed JSON is a list\n",
    "#                 keyword_names = [keyword.get(\"name\") for keyword in keywords] # Extract keyword names\n",
    "#                 return keyword_names\n",
    "#         except (json.JSONDecodeError,TypeError, KeyError) as e: # Handle errors\n",
    "#             pass\n",
    "        \n",
    "#         # Return an empty list if the value is not a valid string or JSON decoding fails\n",
    "#         return \"Problem identified\"\n",
    "    \n",
    "# # Apply the function to the column\n",
    "# df[\"parsed_keywords\"] = df[\"keywords\"].apply(parse_keywords)\n"
   ]
  },
  {
   "cell_type": "code",
   "execution_count": null,
   "metadata": {},
   "outputs": [],
   "source": [
    "# df = df.drop(columns=[\"keywords\"])"
   ]
  },
  {
   "cell_type": "code",
   "execution_count": null,
   "metadata": {},
   "outputs": [],
   "source": [
    "# df.rename(columns={\"parsed_keywords\": \"Keywords\"}, inplace=True)"
   ]
  },
  {
   "cell_type": "code",
   "execution_count": null,
   "metadata": {},
   "outputs": [],
   "source": [
    "# df.head(10)"
   ]
  },
  {
   "cell_type": "markdown",
   "metadata": {},
   "source": [
    "**LEE's METHOD**"
   ]
  },
  {
   "cell_type": "code",
   "execution_count": 8,
   "metadata": {},
   "outputs": [
    {
     "data": {
      "text/html": [
       "<div>\n",
       "<style scoped>\n",
       "    .dataframe tbody tr th:only-of-type {\n",
       "        vertical-align: middle;\n",
       "    }\n",
       "\n",
       "    .dataframe tbody tr th {\n",
       "        vertical-align: top;\n",
       "    }\n",
       "\n",
       "    .dataframe thead th {\n",
       "        text-align: right;\n",
       "    }\n",
       "</style>\n",
       "<table border=\"1\" class=\"dataframe\">\n",
       "  <thead>\n",
       "    <tr style=\"text-align: right;\">\n",
       "      <th></th>\n",
       "      <th>id</th>\n",
       "      <th>keywords</th>\n",
       "      <th>names</th>\n",
       "    </tr>\n",
       "  </thead>\n",
       "  <tbody>\n",
       "    <tr>\n",
       "      <th>0</th>\n",
       "      <td>862</td>\n",
       "      <td>[{'id': 931, 'name': 'jealousy'}, {'id': 4290, 'name': 'toy'}, {'id': 5202, 'name': 'boy'}, {'id': 6054, 'name': 'friendship'}, {'id': 9713, 'name': 'friends'}, {'id': 9823, 'name': 'rivalry'}, {'id': 165503, 'name': 'boy next door'}, {'id': 170722, 'name': 'new toy'}, {'id': 187065, 'name': 'toy comes to life'}]</td>\n",
       "      <td>[jealousy, toy, boy, friendship, friends, rivalry, boy next door, new toy, toy comes to life]</td>\n",
       "    </tr>\n",
       "    <tr>\n",
       "      <th>1</th>\n",
       "      <td>8844</td>\n",
       "      <td>[{'id': 10090, 'name': 'board game'}, {'id': 10941, 'name': 'disappearance'}, {'id': 15101, 'name': \"based on children's book\"}, {'id': 33467, 'name': 'new home'}, {'id': 158086, 'name': 'recluse'}, {'id': 158091, 'name': 'giant insect'}]</td>\n",
       "      <td>[board game, disappearance, based on children's book, new home, recluse, giant insect]</td>\n",
       "    </tr>\n",
       "    <tr>\n",
       "      <th>2</th>\n",
       "      <td>15602</td>\n",
       "      <td>[{'id': 1495, 'name': 'fishing'}, {'id': 12392, 'name': 'best friend'}, {'id': 179431, 'name': 'duringcreditsstinger'}, {'id': 208510, 'name': 'old men'}]</td>\n",
       "      <td>[fishing, best friend, duringcreditsstinger, old men]</td>\n",
       "    </tr>\n",
       "    <tr>\n",
       "      <th>3</th>\n",
       "      <td>31357</td>\n",
       "      <td>[{'id': 818, 'name': 'based on novel'}, {'id': 10131, 'name': 'interracial relationship'}, {'id': 14768, 'name': 'single mother'}, {'id': 15160, 'name': 'divorce'}, {'id': 33455, 'name': 'chick flick'}]</td>\n",
       "      <td>[based on novel, interracial relationship, single mother, divorce, chick flick]</td>\n",
       "    </tr>\n",
       "  </tbody>\n",
       "</table>\n",
       "</div>"
      ],
      "text/plain": [
       "      id  \\\n",
       "0    862   \n",
       "1   8844   \n",
       "2  15602   \n",
       "3  31357   \n",
       "\n",
       "                                                                                                                                                                                                                                                                                                                     keywords  \\\n",
       "0  [{'id': 931, 'name': 'jealousy'}, {'id': 4290, 'name': 'toy'}, {'id': 5202, 'name': 'boy'}, {'id': 6054, 'name': 'friendship'}, {'id': 9713, 'name': 'friends'}, {'id': 9823, 'name': 'rivalry'}, {'id': 165503, 'name': 'boy next door'}, {'id': 170722, 'name': 'new toy'}, {'id': 187065, 'name': 'toy comes to life'}]   \n",
       "1                                                                              [{'id': 10090, 'name': 'board game'}, {'id': 10941, 'name': 'disappearance'}, {'id': 15101, 'name': \"based on children's book\"}, {'id': 33467, 'name': 'new home'}, {'id': 158086, 'name': 'recluse'}, {'id': 158091, 'name': 'giant insect'}]   \n",
       "2                                                                                                                                                                  [{'id': 1495, 'name': 'fishing'}, {'id': 12392, 'name': 'best friend'}, {'id': 179431, 'name': 'duringcreditsstinger'}, {'id': 208510, 'name': 'old men'}]   \n",
       "3                                                                                                                  [{'id': 818, 'name': 'based on novel'}, {'id': 10131, 'name': 'interracial relationship'}, {'id': 14768, 'name': 'single mother'}, {'id': 15160, 'name': 'divorce'}, {'id': 33455, 'name': 'chick flick'}]   \n",
       "\n",
       "                                                                                           names  \n",
       "0  [jealousy, toy, boy, friendship, friends, rivalry, boy next door, new toy, toy comes to life]  \n",
       "1         [board game, disappearance, based on children's book, new home, recluse, giant insect]  \n",
       "2                                          [fishing, best friend, duringcreditsstinger, old men]  \n",
       "3                [based on novel, interracial relationship, single mother, divorce, chick flick]  "
      ]
     },
     "execution_count": 8,
     "metadata": {},
     "output_type": "execute_result"
    }
   ],
   "source": [
    "\n",
    "# Function to parse the string and extract names\n",
    "def extract_names(keyword_string):\n",
    "    # Safely evaluate the string to a Python object\n",
    "    keyword_list = ast.literal_eval(keyword_string)\n",
    "    # Extract names\n",
    "    names = [keyword['name'] for keyword in keyword_list]\n",
    "    return names\n",
    "\n",
    "# Apply the function to the DataFrame\n",
    "df['names'] = df['keywords'].apply(extract_names)\n",
    "\n",
    "# Display the DataFrame\n",
    "df.head(4)"
   ]
  },
  {
   "cell_type": "markdown",
   "metadata": {},
   "source": [
    "**STEP 1: USE REGEX TO EXTRACT KEYWORDS**"
   ]
  },
  {
   "cell_type": "code",
   "execution_count": 9,
   "metadata": {},
   "outputs": [],
   "source": [
    "import ast\n",
    "import re"
   ]
  },
  {
   "cell_type": "code",
   "execution_count": 10,
   "metadata": {},
   "outputs": [],
   "source": [
    "# Function to extract keywords from \"names\" column\n",
    "def extract_keywords(keyword_str):\n",
    "    # Convert the string representation of the list of dictionaries to an actual list of dictionaries\n",
    "    keyword_list = ast.literal_eval(keyword_str)\n",
    "    # Extract the \"name\" of each keyword\n",
    "    return [keyword[\"name\"] for keyword in keyword_list]\n",
    "\n",
    "# Apply the function to extract keywords\n",
    "df[\"keywords_extracted\"] = df[\"keywords\"].apply(extract_keywords)"
   ]
  },
  {
   "cell_type": "markdown",
   "metadata": {},
   "source": [
    "**STEP 2: Count the occurrences of each keyword**"
   ]
  },
  {
   "cell_type": "code",
   "execution_count": 11,
   "metadata": {},
   "outputs": [],
   "source": [
    "from collections import Counter\n",
    "\n",
    "# Flatten the list of keywords and count the occurrences\n",
    "all_keywords =  [keyword for sublist in df[\"keywords_extracted\"] for keyword in sublist]\n",
    "keyword_counts = Counter(all_keywords)"
   ]
  },
  {
   "cell_type": "markdown",
   "metadata": {},
   "source": [
    "**STEP 3: Identify the Top 20 Most Used Keywords**"
   ]
  },
  {
   "cell_type": "code",
   "execution_count": 13,
   "metadata": {},
   "outputs": [
    {
     "name": "stdout",
     "output_type": "stream",
     "text": [
      "[('woman director', 3115), ('independent film', 1930), ('murder', 1308), ('based on novel', 835), ('musical', 734), ('sex', 685), ('violence', 651), ('nudity', 636), ('biography', 629), ('revenge', 626), ('suspense', 590), ('love', 574), ('female nudity', 563), ('sport', 544), ('police', 454), ('teenager', 441), ('duringcreditsstinger', 440), ('sequel', 439), ('friendship', 411), ('world war ii', 394)]\n"
     ]
    }
   ],
   "source": [
    "# Get the top 20 most common keywords\n",
    "top_20_keywords = keyword_counts.most_common(20)\n",
    "print(top_20_keywords)"
   ]
  },
  {
   "cell_type": "code",
   "execution_count": 14,
   "metadata": {},
   "outputs": [
    {
     "name": "stdout",
     "output_type": "stream",
     "text": [
      "                 Keyword  Count\n",
      "0         woman director   3115\n",
      "1       independent film   1930\n",
      "2                 murder   1308\n",
      "3         based on novel    835\n",
      "4                musical    734\n",
      "5                    sex    685\n",
      "6               violence    651\n",
      "7                 nudity    636\n",
      "8              biography    629\n",
      "9                revenge    626\n",
      "10              suspense    590\n",
      "11                  love    574\n",
      "12         female nudity    563\n",
      "13                 sport    544\n",
      "14                police    454\n",
      "15              teenager    441\n",
      "16  duringcreditsstinger    440\n",
      "17                sequel    439\n",
      "18            friendship    411\n",
      "19          world war ii    394\n"
     ]
    }
   ],
   "source": [
    "# Convert to a DataFrame for better readability\n",
    "top_20_df = pd.DataFrame(top_20_keywords, columns=[\"Keyword\", \"Count\"])\n",
    "print(top_20_df)"
   ]
  },
  {
   "cell_type": "markdown",
   "metadata": {},
   "source": [
    "**STEP 4: Create a function to check for the presence of a specific**"
   ]
  },
  {
   "cell_type": "code",
   "execution_count": 16,
   "metadata": {},
   "outputs": [],
   "source": [
    "# Function to check if a specific keyword is in the \"keywords\" column\n",
    "def contains_keyword(keyword_str, target_keyword):\n",
    "    keyword_list = ast.literal_eval(keyword_str)\n",
    "    keywords = [keyword[\"name\"] for keyword in keyword_list]\n",
    "    return target_keyword in keywords\n",
    "\n",
    "# Target keyword\n",
    "target_keyword = \"woman director\""
   ]
  },
  {
   "cell_type": "markdown",
   "metadata": {},
   "source": [
    "**STEP 5: Filter the DataFrame based on the presence of that keyword**"
   ]
  },
  {
   "cell_type": "code",
   "execution_count": 17,
   "metadata": {},
   "outputs": [],
   "source": [
    "# Apply the function to create a boolean mask\n",
    "df[\"contains_target\"] = df[\"keywords\"].apply(contains_keyword, target_keyword=target_keyword)\n",
    "\n",
    "# Filter the DataFrame\n",
    "filtered_df = df[df[\"contains_target\"]]"
   ]
  },
  {
   "cell_type": "markdown",
   "metadata": {},
   "source": [
    "**STEP 6: Display the IDs and rows where the keyword appears**"
   ]
  },
  {
   "cell_type": "code",
   "execution_count": 18,
   "metadata": {},
   "outputs": [
    {
     "data": {
      "text/html": [
       "<div>\n",
       "<style scoped>\n",
       "    .dataframe tbody tr th:only-of-type {\n",
       "        vertical-align: middle;\n",
       "    }\n",
       "\n",
       "    .dataframe tbody tr th {\n",
       "        vertical-align: top;\n",
       "    }\n",
       "\n",
       "    .dataframe thead th {\n",
       "        text-align: right;\n",
       "    }\n",
       "</style>\n",
       "<table border=\"1\" class=\"dataframe\">\n",
       "  <thead>\n",
       "    <tr style=\"text-align: right;\">\n",
       "      <th></th>\n",
       "      <th>id</th>\n",
       "      <th>keywords</th>\n",
       "    </tr>\n",
       "  </thead>\n",
       "  <tbody>\n",
       "    <tr>\n",
       "      <th>17</th>\n",
       "      <td>5</td>\n",
       "      <td>[{'id': 612, 'name': 'hotel'}, {'id': 613, 'name': \"new year's eve\"}, {'id': 616, 'name': 'witch'}, {'id': 622, 'name': 'bet'}, {'id': 922, 'name': 'hotel room'}, {'id': 2700, 'name': 'sperm'}, {'id': 12670, 'name': 'los angeles'}, {'id': 160488, 'name': 'hoodlum'}, {'id': 187056, 'name': 'woman director'}, {'id': 198129, 'name': 'episode film'}]</td>\n",
       "    </tr>\n",
       "    <tr>\n",
       "      <th>26</th>\n",
       "      <td>9263</td>\n",
       "      <td>[{'id': 1228, 'name': '1970s'}, {'id': 5248, 'name': 'female friendship'}, {'id': 10683, 'name': 'coming of age'}, {'id': 170521, 'name': 'gynecologist'}, {'id': 170533, 'name': 'photocopier'}, {'id': 170539, 'name': 'truth or dare'}, {'id': 187056, 'name': 'woman director'}]</td>\n",
       "    </tr>\n",
       "    <tr>\n",
       "      <th>38</th>\n",
       "      <td>9603</td>\n",
       "      <td>[{'id': 1525, 'name': 'puberty'}, {'id': 6270, 'name': 'high school'}, {'id': 6664, 'name': 'make a match'}, {'id': 7208, 'name': 'spoiled child'}, {'id': 10199, 'name': 'gay interest'}, {'id': 11933, 'name': 'conflict'}, {'id': 187056, 'name': 'woman director'}]</td>\n",
       "    </tr>\n",
       "    <tr>\n",
       "      <th>45</th>\n",
       "      <td>11861</td>\n",
       "      <td>[{'id': 1334, 'name': 'wedding vows'}, {'id': 1459, 'name': 'marriage proposal'}, {'id': 2587, 'name': 'married couple'}, {'id': 5773, 'name': 'monogamy'}, {'id': 5999, 'name': 'advice'}, {'id': 6038, 'name': 'marriage'}, {'id': 9470, 'name': 'quilt'}, {'id': 9673, 'name': 'love'}, {'id': 33694, 'name': 'family holiday'}, {'id': 34094, 'name': 'extramarital affair'}, {'id': 164039, 'name': 'grandmother'}, {'id': 187056, 'name': 'woman director'}]</td>\n",
       "    </tr>\n",
       "    <tr>\n",
       "      <th>48</th>\n",
       "      <td>8391</td>\n",
       "      <td>[{'id': 1992, 'name': 'professor'}, {'id': 158718, 'name': 'lgbt'}, {'id': 187056, 'name': 'woman director'}]</td>\n",
       "    </tr>\n",
       "    <tr>\n",
       "      <th>...</th>\n",
       "      <td>...</td>\n",
       "      <td>...</td>\n",
       "    </tr>\n",
       "    <tr>\n",
       "      <th>46349</th>\n",
       "      <td>149946</td>\n",
       "      <td>[{'id': 187056, 'name': 'woman director'}]</td>\n",
       "    </tr>\n",
       "    <tr>\n",
       "      <th>46350</th>\n",
       "      <td>61385</td>\n",
       "      <td>[{'id': 187056, 'name': 'woman director'}]</td>\n",
       "    </tr>\n",
       "    <tr>\n",
       "      <th>46356</th>\n",
       "      <td>64197</td>\n",
       "      <td>[{'id': 187056, 'name': 'woman director'}]</td>\n",
       "    </tr>\n",
       "    <tr>\n",
       "      <th>46361</th>\n",
       "      <td>100152</td>\n",
       "      <td>[{'id': 187056, 'name': 'woman director'}]</td>\n",
       "    </tr>\n",
       "    <tr>\n",
       "      <th>46371</th>\n",
       "      <td>258907</td>\n",
       "      <td>[{'id': 14629, 'name': 'experimental film'}, {'id': 15216, 'name': 'avant-garde'}, {'id': 158718, 'name': 'lgbt'}, {'id': 187056, 'name': 'woman director'}]</td>\n",
       "    </tr>\n",
       "  </tbody>\n",
       "</table>\n",
       "<p>3115 rows × 2 columns</p>\n",
       "</div>"
      ],
      "text/plain": [
       "           id  \\\n",
       "17          5   \n",
       "26       9263   \n",
       "38       9603   \n",
       "45      11861   \n",
       "48       8391   \n",
       "...       ...   \n",
       "46349  149946   \n",
       "46350   61385   \n",
       "46356   64197   \n",
       "46361  100152   \n",
       "46371  258907   \n",
       "\n",
       "                                                                                                                                                                                                                                                                                                                                                                                                                                                                 keywords  \n",
       "17                                                                                                           [{'id': 612, 'name': 'hotel'}, {'id': 613, 'name': \"new year's eve\"}, {'id': 616, 'name': 'witch'}, {'id': 622, 'name': 'bet'}, {'id': 922, 'name': 'hotel room'}, {'id': 2700, 'name': 'sperm'}, {'id': 12670, 'name': 'los angeles'}, {'id': 160488, 'name': 'hoodlum'}, {'id': 187056, 'name': 'woman director'}, {'id': 198129, 'name': 'episode film'}]  \n",
       "26                                                                                                                                                                                   [{'id': 1228, 'name': '1970s'}, {'id': 5248, 'name': 'female friendship'}, {'id': 10683, 'name': 'coming of age'}, {'id': 170521, 'name': 'gynecologist'}, {'id': 170533, 'name': 'photocopier'}, {'id': 170539, 'name': 'truth or dare'}, {'id': 187056, 'name': 'woman director'}]  \n",
       "38                                                                                                                                                                                                [{'id': 1525, 'name': 'puberty'}, {'id': 6270, 'name': 'high school'}, {'id': 6664, 'name': 'make a match'}, {'id': 7208, 'name': 'spoiled child'}, {'id': 10199, 'name': 'gay interest'}, {'id': 11933, 'name': 'conflict'}, {'id': 187056, 'name': 'woman director'}]  \n",
       "45     [{'id': 1334, 'name': 'wedding vows'}, {'id': 1459, 'name': 'marriage proposal'}, {'id': 2587, 'name': 'married couple'}, {'id': 5773, 'name': 'monogamy'}, {'id': 5999, 'name': 'advice'}, {'id': 6038, 'name': 'marriage'}, {'id': 9470, 'name': 'quilt'}, {'id': 9673, 'name': 'love'}, {'id': 33694, 'name': 'family holiday'}, {'id': 34094, 'name': 'extramarital affair'}, {'id': 164039, 'name': 'grandmother'}, {'id': 187056, 'name': 'woman director'}]  \n",
       "48                                                                                                                                                                                                                                                                                                                                                          [{'id': 1992, 'name': 'professor'}, {'id': 158718, 'name': 'lgbt'}, {'id': 187056, 'name': 'woman director'}]  \n",
       "...                                                                                                                                                                                                                                                                                                                                                                                                                                                                   ...  \n",
       "46349                                                                                                                                                                                                                                                                                                                                                                                                                          [{'id': 187056, 'name': 'woman director'}]  \n",
       "46350                                                                                                                                                                                                                                                                                                                                                                                                                          [{'id': 187056, 'name': 'woman director'}]  \n",
       "46356                                                                                                                                                                                                                                                                                                                                                                                                                          [{'id': 187056, 'name': 'woman director'}]  \n",
       "46361                                                                                                                                                                                                                                                                                                                                                                                                                          [{'id': 187056, 'name': 'woman director'}]  \n",
       "46371                                                                                                                                                                                                                                                                                                        [{'id': 14629, 'name': 'experimental film'}, {'id': 15216, 'name': 'avant-garde'}, {'id': 158718, 'name': 'lgbt'}, {'id': 187056, 'name': 'woman director'}]  \n",
       "\n",
       "[3115 rows x 2 columns]"
      ]
     },
     "execution_count": 18,
     "metadata": {},
     "output_type": "execute_result"
    }
   ],
   "source": [
    "# Display the IDs and rows where the target keyword appears\n",
    "filtered_df[[\"id\", \"keywords\"]]"
   ]
  },
  {
   "cell_type": "markdown",
   "metadata": {},
   "source": [
    "**ANOTHER METHOD: TEST**"
   ]
  },
  {
   "cell_type": "markdown",
   "metadata": {},
   "source": [
    "**STEP 1: PARSE THE KEYWORDS IN \"keywords_df\"**"
   ]
  },
  {
   "cell_type": "code",
   "execution_count": 19,
   "metadata": {},
   "outputs": [],
   "source": [
    "# Function to extract keywords from the \"keywords\" column\n",
    "def extract_keywords(keyword_str):\n",
    "    keyword_list = ast.literal_eval(keyword_str)\n",
    "    return [keyword[\"name\"] for keyword in keyword_list]\n",
    "\n",
    "# Apply the function to extract keywords\n",
    "df[\"Keywords\"] = df[\"keywords\"].apply(extract_keywords)"
   ]
  },
  {
   "cell_type": "markdown",
   "metadata": {},
   "source": [
    "**STEP 2: USE REGEX TO FILTER THE KEYWORDS**"
   ]
  },
  {
   "cell_type": "code",
   "execution_count": null,
   "metadata": {},
   "outputs": [],
   "source": [
    "# Flatten the keywords column for easier regex operations\n",
    "keywords_flat = df.explode(\"Keywords\")\n",
    "\n",
    "# Define a regex pattern to filter keywords\n",
    "pattern = r\"\\btoy\\b\" # Example pattern to filter the column containing \"toy\"\n",
    "\n",
    "# Apply the regex pattern to filter keywords\n",
    "filtered_keywords = keywords_flat[keywords_flat[\"Keywords\"].str.contains(pattern, regex=True, case=False)]"
   ]
  },
  {
   "cell_type": "code",
   "execution_count": null,
   "metadata": {},
   "outputs": [],
   "source": []
  }
 ],
 "metadata": {
  "kernelspec": {
   "display_name": "Python 3",
   "language": "python",
   "name": "python3"
  },
  "language_info": {
   "codemirror_mode": {
    "name": "ipython",
    "version": 3
   },
   "file_extension": ".py",
   "mimetype": "text/x-python",
   "name": "python",
   "nbconvert_exporter": "python",
   "pygments_lexer": "ipython3",
   "version": "3.12.4"
  }
 },
 "nbformat": 4,
 "nbformat_minor": 2
}
