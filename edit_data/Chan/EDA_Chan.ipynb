{
 "cells": [
  {
   "cell_type": "markdown",
   "metadata": {},
   "source": [
    "**Import libraries and Read Data**"
   ]
  },
  {
   "cell_type": "code",
   "execution_count": 1,
   "metadata": {},
   "outputs": [],
   "source": [
    "import pandas as pd\n",
    "import numpy as np\n",
    "import matplotlib.pylab as plt\n",
    "import seaborn as sns\n",
    "import json"
   ]
  },
  {
   "cell_type": "code",
   "execution_count": 2,
   "metadata": {},
   "outputs": [
    {
     "name": "stderr",
     "output_type": "stream",
     "text": [
      "C:\\Users\\chanc\\AppData\\Local\\Temp\\ipykernel_24044\\1850975939.py:1: DtypeWarning: Columns (10) have mixed types. Specify dtype option on import or set low_memory=False.\n",
      "  movies_df = pd.read_csv(\"source_data/movies_metadata.csv\")\n"
     ]
    }
   ],
   "source": [
    "movies_df = pd.read_csv(\"source_data/movies_metadata.csv\")\n",
    "credits_df = pd.read_csv(\"source_data/credits.csv\")\n",
    "links_sm_df = pd.read_csv(\"source_data/links_small.csv\")\n",
    "links_df = pd.read_csv(\"source_data/links.csv\")\n",
    "ratings_sm_df = pd.read_csv(\"source_data/ratings_small.csv\")\n",
    "ratings_df = pd.read_csv(\"source_data/ratings.csv\")\n",
    "tmdb5000_credits_df  = pd.read_csv(\"source_data/tmdb_5000_credits.csv\")\n",
    "tmdb5000_movies_df = pd.read_csv(\"source_data/tmdb_5000_movies.csv\")\n",
    "pd.set_option('display.max_columns', None)"
   ]
  },
  {
   "cell_type": "markdown",
   "metadata": {},
   "source": [
    "**Step 1: Data Understanding**"
   ]
  },
  {
   "cell_type": "code",
   "execution_count": null,
   "metadata": {},
   "outputs": [],
   "source": [
    "# movies_df.shape                   Return a tuple representing the dimensionality of the DataFrame\n",
    "# movies_df.head(20)                Shows 20 rows of the DataFrame\n",
    "# movies_df.dtypes                  This returns a Series with the data type of each column. \n",
    "# movies_df.describe()              Generate descriptive statistics.\n",
    "# movies_df.columns                 Check the columns\n",
    "\n"
   ]
  },
  {
   "cell_type": "markdown",
   "metadata": {},
   "source": [
    "**Step 2: Data Preparation**"
   ]
  },
  {
   "cell_type": "code",
   "execution_count": null,
   "metadata": {},
   "outputs": [],
   "source": [
    "# Rename our columns\n",
    "# movies_df.rename(columns={\"id\": \"ID\"}) # {\"Name of column\": \"Replacement of column\"}\n",
    "\n",
    "# Identify missing values\n",
    "# movies_df.isna().sum()\n",
    "\n",
    "# Identify duplicated data\n",
    "# movies_df.loc[df.duplicated()]\n",
    "\n",
    "# Check for duplicates with subset\n",
    "# movies_df.loc[df.duplicated(subset=[\"original_title\"])].head(5)\n",
    "\n",
    "# Checking an example duplicate\n",
    "# movies_df.query('original_title == \"Cape Fear\"')"
   ]
  },
  {
   "cell_type": "markdown",
   "metadata": {},
   "source": [
    "**Step 3: Feature Understanding**"
   ]
  },
  {
   "cell_type": "code",
   "execution_count": null,
   "metadata": {},
   "outputs": [],
   "source": [
    "# ax = movies_df[\"vote_average\"].value_counts() \\\n",
    "#     .head(10) \\\n",
    "#     .plot(kind=\"bar\", title=\"Voters Average\")\n",
    "# ax.set_xlabel(\"Ratings\")\n",
    "# ax.set_ylabel(\"Voters Count\")"
   ]
  },
  {
   "cell_type": "markdown",
   "metadata": {},
   "source": [
    "**Step 4: Feauture Relationships**"
   ]
  },
  {
   "cell_type": "code",
   "execution_count": null,
   "metadata": {},
   "outputs": [],
   "source": [
    "# # sns.pairplot()\n",
    "\n",
    "movies_df.plot(kind=\"scatter\",\n",
    "        x=\"vote_average\",\n",
    "        y = \"vote_count\",\n",
    "        title=\"Voters behavior\")\n",
    "plt.show()\n",
    "\n",
    "# # sns.scatterplot(x=\"vote_average\",\n",
    "# #         y = \"vote_count\",\n",
    "#         # data=movies_df)      "
   ]
  },
  {
   "cell_type": "markdown",
   "metadata": {},
   "source": [
    "**Sorting values to see potential insights of the dataset**"
   ]
  },
  {
   "cell_type": "code",
   "execution_count": null,
   "metadata": {},
   "outputs": [],
   "source": [
    "# Sorting values - Vote Count to create an assumption of which movies are popular\n",
    "movies_df.sort_values(by=[\"vote_count\"], ascending=[False]).head(4)"
   ]
  },
  {
   "cell_type": "code",
   "execution_count": null,
   "metadata": {},
   "outputs": [],
   "source": [
    "movies_df.sort_values(by=[\"vote_average\"], ascending=[False]).head(4)"
   ]
  },
  {
   "cell_type": "code",
   "execution_count": null,
   "metadata": {},
   "outputs": [],
   "source": [
    "movies_df[\"original_language\"].value_counts()"
   ]
  },
  {
   "cell_type": "markdown",
   "metadata": {},
   "source": [
    "**Delete and Renaming the columns**"
   ]
  },
  {
   "cell_type": "code",
   "execution_count": 4,
   "metadata": {},
   "outputs": [],
   "source": [
    "# Delete Columns \"homepage\", \"from the movies_df \n",
    "movies_df = movies_df.drop(columns={\"homepage\"}, axis=1)"
   ]
  },
  {
   "cell_type": "code",
   "execution_count": 5,
   "metadata": {},
   "outputs": [],
   "source": [
    "# Rename all columns from movies_df\n",
    "movies_df.rename(columns={\"adult\": \"Adult\", \"belongs_to_collection\": \"Movie_Collection\", \"budget\": \"Budget\", \"genres\": \"Genres\", \"id\": \"ID\", \"imdb_id\": \"IMDB_ID\", \"original_language\": \"Original_Language\", \"original_title\": \"Original_Title\", \"overview\": \"Overview\", \"popularity\": \"Popularity\", \"production_companies\": \"Production_Companies\", \"production_countries\": \"Production_Countries\", \"release_date\": \"Release_Date\", \"revenue\": \"Revenue\", \"runtime\": \"Runtime\", \"spoken_languages\": \"Spoken_languages\", \"status\":\"Status\", \"tagline\":\"Tagline\", \"title\":\"Title\", \"video\":\"Video\", \"vote_average\":\"Ratings\", \"vote_count\":\"Voters_Count\"}, inplace=True)"
   ]
  },
  {
   "cell_type": "code",
   "execution_count": 6,
   "metadata": {},
   "outputs": [
    {
     "data": {
      "text/html": [
       "<div>\n",
       "<style scoped>\n",
       "    .dataframe tbody tr th:only-of-type {\n",
       "        vertical-align: middle;\n",
       "    }\n",
       "\n",
       "    .dataframe tbody tr th {\n",
       "        vertical-align: top;\n",
       "    }\n",
       "\n",
       "    .dataframe thead th {\n",
       "        text-align: right;\n",
       "    }\n",
       "</style>\n",
       "<table border=\"1\" class=\"dataframe\">\n",
       "  <thead>\n",
       "    <tr style=\"text-align: right;\">\n",
       "      <th></th>\n",
       "      <th>Adult</th>\n",
       "      <th>Movie_Collection</th>\n",
       "      <th>Budget</th>\n",
       "      <th>Genres</th>\n",
       "      <th>ID</th>\n",
       "      <th>IMDB_ID</th>\n",
       "      <th>Original_Language</th>\n",
       "      <th>Original_Title</th>\n",
       "      <th>Overview</th>\n",
       "      <th>Popularity</th>\n",
       "      <th>poster_path</th>\n",
       "      <th>Production_Companies</th>\n",
       "      <th>Production_Countries</th>\n",
       "      <th>Release_Date</th>\n",
       "      <th>Revenue</th>\n",
       "      <th>Runtime</th>\n",
       "      <th>Spoken_languages</th>\n",
       "      <th>Status</th>\n",
       "      <th>Tagline</th>\n",
       "      <th>Title</th>\n",
       "      <th>Video</th>\n",
       "      <th>Ratings</th>\n",
       "      <th>Voters_Count</th>\n",
       "    </tr>\n",
       "  </thead>\n",
       "  <tbody>\n",
       "    <tr>\n",
       "      <th>0</th>\n",
       "      <td>False</td>\n",
       "      <td>{'id': 10194, 'name': 'Toy Story Collection', ...</td>\n",
       "      <td>30000000</td>\n",
       "      <td>[{'id': 16, 'name': 'Animation'}, {'id': 35, '...</td>\n",
       "      <td>862</td>\n",
       "      <td>tt0114709</td>\n",
       "      <td>en</td>\n",
       "      <td>Toy Story</td>\n",
       "      <td>Led by Woody, Andy's toys live happily in his ...</td>\n",
       "      <td>21.946943</td>\n",
       "      <td>/rhIRbceoE9lR4veEXuwCC2wARtG.jpg</td>\n",
       "      <td>[{'name': 'Pixar Animation Studios', 'id': 3}]</td>\n",
       "      <td>[{'iso_3166_1': 'US', 'name': 'United States o...</td>\n",
       "      <td>1995-10-30</td>\n",
       "      <td>373554033.0</td>\n",
       "      <td>81.0</td>\n",
       "      <td>[{'iso_639_1': 'en', 'name': 'English'}]</td>\n",
       "      <td>Released</td>\n",
       "      <td>NaN</td>\n",
       "      <td>Toy Story</td>\n",
       "      <td>False</td>\n",
       "      <td>7.7</td>\n",
       "      <td>5415.0</td>\n",
       "    </tr>\n",
       "    <tr>\n",
       "      <th>1</th>\n",
       "      <td>False</td>\n",
       "      <td>NaN</td>\n",
       "      <td>65000000</td>\n",
       "      <td>[{'id': 12, 'name': 'Adventure'}, {'id': 14, '...</td>\n",
       "      <td>8844</td>\n",
       "      <td>tt0113497</td>\n",
       "      <td>en</td>\n",
       "      <td>Jumanji</td>\n",
       "      <td>When siblings Judy and Peter discover an encha...</td>\n",
       "      <td>17.015539</td>\n",
       "      <td>/vzmL6fP7aPKNKPRTFnZmiUfciyV.jpg</td>\n",
       "      <td>[{'name': 'TriStar Pictures', 'id': 559}, {'na...</td>\n",
       "      <td>[{'iso_3166_1': 'US', 'name': 'United States o...</td>\n",
       "      <td>1995-12-15</td>\n",
       "      <td>262797249.0</td>\n",
       "      <td>104.0</td>\n",
       "      <td>[{'iso_639_1': 'en', 'name': 'English'}, {'iso...</td>\n",
       "      <td>Released</td>\n",
       "      <td>Roll the dice and unleash the excitement!</td>\n",
       "      <td>Jumanji</td>\n",
       "      <td>False</td>\n",
       "      <td>6.9</td>\n",
       "      <td>2413.0</td>\n",
       "    </tr>\n",
       "    <tr>\n",
       "      <th>2</th>\n",
       "      <td>False</td>\n",
       "      <td>{'id': 119050, 'name': 'Grumpy Old Men Collect...</td>\n",
       "      <td>0</td>\n",
       "      <td>[{'id': 10749, 'name': 'Romance'}, {'id': 35, ...</td>\n",
       "      <td>15602</td>\n",
       "      <td>tt0113228</td>\n",
       "      <td>en</td>\n",
       "      <td>Grumpier Old Men</td>\n",
       "      <td>A family wedding reignites the ancient feud be...</td>\n",
       "      <td>11.7129</td>\n",
       "      <td>/6ksm1sjKMFLbO7UY2i6G1ju9SML.jpg</td>\n",
       "      <td>[{'name': 'Warner Bros.', 'id': 6194}, {'name'...</td>\n",
       "      <td>[{'iso_3166_1': 'US', 'name': 'United States o...</td>\n",
       "      <td>1995-12-22</td>\n",
       "      <td>0.0</td>\n",
       "      <td>101.0</td>\n",
       "      <td>[{'iso_639_1': 'en', 'name': 'English'}]</td>\n",
       "      <td>Released</td>\n",
       "      <td>Still Yelling. Still Fighting. Still Ready for...</td>\n",
       "      <td>Grumpier Old Men</td>\n",
       "      <td>False</td>\n",
       "      <td>6.5</td>\n",
       "      <td>92.0</td>\n",
       "    </tr>\n",
       "    <tr>\n",
       "      <th>3</th>\n",
       "      <td>False</td>\n",
       "      <td>NaN</td>\n",
       "      <td>16000000</td>\n",
       "      <td>[{'id': 35, 'name': 'Comedy'}, {'id': 18, 'nam...</td>\n",
       "      <td>31357</td>\n",
       "      <td>tt0114885</td>\n",
       "      <td>en</td>\n",
       "      <td>Waiting to Exhale</td>\n",
       "      <td>Cheated on, mistreated and stepped on, the wom...</td>\n",
       "      <td>3.859495</td>\n",
       "      <td>/16XOMpEaLWkrcPqSQqhTmeJuqQl.jpg</td>\n",
       "      <td>[{'name': 'Twentieth Century Fox Film Corporat...</td>\n",
       "      <td>[{'iso_3166_1': 'US', 'name': 'United States o...</td>\n",
       "      <td>1995-12-22</td>\n",
       "      <td>81452156.0</td>\n",
       "      <td>127.0</td>\n",
       "      <td>[{'iso_639_1': 'en', 'name': 'English'}]</td>\n",
       "      <td>Released</td>\n",
       "      <td>Friends are the people who let you be yourself...</td>\n",
       "      <td>Waiting to Exhale</td>\n",
       "      <td>False</td>\n",
       "      <td>6.1</td>\n",
       "      <td>34.0</td>\n",
       "    </tr>\n",
       "    <tr>\n",
       "      <th>4</th>\n",
       "      <td>False</td>\n",
       "      <td>{'id': 96871, 'name': 'Father of the Bride Col...</td>\n",
       "      <td>0</td>\n",
       "      <td>[{'id': 35, 'name': 'Comedy'}]</td>\n",
       "      <td>11862</td>\n",
       "      <td>tt0113041</td>\n",
       "      <td>en</td>\n",
       "      <td>Father of the Bride Part II</td>\n",
       "      <td>Just when George Banks has recovered from his ...</td>\n",
       "      <td>8.387519</td>\n",
       "      <td>/e64sOI48hQXyru7naBFyssKFxVd.jpg</td>\n",
       "      <td>[{'name': 'Sandollar Productions', 'id': 5842}...</td>\n",
       "      <td>[{'iso_3166_1': 'US', 'name': 'United States o...</td>\n",
       "      <td>1995-02-10</td>\n",
       "      <td>76578911.0</td>\n",
       "      <td>106.0</td>\n",
       "      <td>[{'iso_639_1': 'en', 'name': 'English'}]</td>\n",
       "      <td>Released</td>\n",
       "      <td>Just When His World Is Back To Normal... He's ...</td>\n",
       "      <td>Father of the Bride Part II</td>\n",
       "      <td>False</td>\n",
       "      <td>5.7</td>\n",
       "      <td>173.0</td>\n",
       "    </tr>\n",
       "  </tbody>\n",
       "</table>\n",
       "</div>"
      ],
      "text/plain": [
       "   Adult                                   Movie_Collection    Budget  \\\n",
       "0  False  {'id': 10194, 'name': 'Toy Story Collection', ...  30000000   \n",
       "1  False                                                NaN  65000000   \n",
       "2  False  {'id': 119050, 'name': 'Grumpy Old Men Collect...         0   \n",
       "3  False                                                NaN  16000000   \n",
       "4  False  {'id': 96871, 'name': 'Father of the Bride Col...         0   \n",
       "\n",
       "                                              Genres     ID    IMDB_ID  \\\n",
       "0  [{'id': 16, 'name': 'Animation'}, {'id': 35, '...    862  tt0114709   \n",
       "1  [{'id': 12, 'name': 'Adventure'}, {'id': 14, '...   8844  tt0113497   \n",
       "2  [{'id': 10749, 'name': 'Romance'}, {'id': 35, ...  15602  tt0113228   \n",
       "3  [{'id': 35, 'name': 'Comedy'}, {'id': 18, 'nam...  31357  tt0114885   \n",
       "4                     [{'id': 35, 'name': 'Comedy'}]  11862  tt0113041   \n",
       "\n",
       "  Original_Language               Original_Title  \\\n",
       "0                en                    Toy Story   \n",
       "1                en                      Jumanji   \n",
       "2                en             Grumpier Old Men   \n",
       "3                en            Waiting to Exhale   \n",
       "4                en  Father of the Bride Part II   \n",
       "\n",
       "                                            Overview Popularity  \\\n",
       "0  Led by Woody, Andy's toys live happily in his ...  21.946943   \n",
       "1  When siblings Judy and Peter discover an encha...  17.015539   \n",
       "2  A family wedding reignites the ancient feud be...    11.7129   \n",
       "3  Cheated on, mistreated and stepped on, the wom...   3.859495   \n",
       "4  Just when George Banks has recovered from his ...   8.387519   \n",
       "\n",
       "                        poster_path  \\\n",
       "0  /rhIRbceoE9lR4veEXuwCC2wARtG.jpg   \n",
       "1  /vzmL6fP7aPKNKPRTFnZmiUfciyV.jpg   \n",
       "2  /6ksm1sjKMFLbO7UY2i6G1ju9SML.jpg   \n",
       "3  /16XOMpEaLWkrcPqSQqhTmeJuqQl.jpg   \n",
       "4  /e64sOI48hQXyru7naBFyssKFxVd.jpg   \n",
       "\n",
       "                                Production_Companies  \\\n",
       "0     [{'name': 'Pixar Animation Studios', 'id': 3}]   \n",
       "1  [{'name': 'TriStar Pictures', 'id': 559}, {'na...   \n",
       "2  [{'name': 'Warner Bros.', 'id': 6194}, {'name'...   \n",
       "3  [{'name': 'Twentieth Century Fox Film Corporat...   \n",
       "4  [{'name': 'Sandollar Productions', 'id': 5842}...   \n",
       "\n",
       "                                Production_Countries Release_Date  \\\n",
       "0  [{'iso_3166_1': 'US', 'name': 'United States o...   1995-10-30   \n",
       "1  [{'iso_3166_1': 'US', 'name': 'United States o...   1995-12-15   \n",
       "2  [{'iso_3166_1': 'US', 'name': 'United States o...   1995-12-22   \n",
       "3  [{'iso_3166_1': 'US', 'name': 'United States o...   1995-12-22   \n",
       "4  [{'iso_3166_1': 'US', 'name': 'United States o...   1995-02-10   \n",
       "\n",
       "       Revenue  Runtime                                   Spoken_languages  \\\n",
       "0  373554033.0     81.0           [{'iso_639_1': 'en', 'name': 'English'}]   \n",
       "1  262797249.0    104.0  [{'iso_639_1': 'en', 'name': 'English'}, {'iso...   \n",
       "2          0.0    101.0           [{'iso_639_1': 'en', 'name': 'English'}]   \n",
       "3   81452156.0    127.0           [{'iso_639_1': 'en', 'name': 'English'}]   \n",
       "4   76578911.0    106.0           [{'iso_639_1': 'en', 'name': 'English'}]   \n",
       "\n",
       "     Status                                            Tagline  \\\n",
       "0  Released                                                NaN   \n",
       "1  Released          Roll the dice and unleash the excitement!   \n",
       "2  Released  Still Yelling. Still Fighting. Still Ready for...   \n",
       "3  Released  Friends are the people who let you be yourself...   \n",
       "4  Released  Just When His World Is Back To Normal... He's ...   \n",
       "\n",
       "                         Title  Video  Ratings  Voters_Count  \n",
       "0                    Toy Story  False      7.7        5415.0  \n",
       "1                      Jumanji  False      6.9        2413.0  \n",
       "2             Grumpier Old Men  False      6.5          92.0  \n",
       "3            Waiting to Exhale  False      6.1          34.0  \n",
       "4  Father of the Bride Part II  False      5.7         173.0  "
      ]
     },
     "execution_count": 6,
     "metadata": {},
     "output_type": "execute_result"
    }
   ],
   "source": [
    "movies_df.head()"
   ]
  },
  {
   "cell_type": "markdown",
   "metadata": {},
   "source": [
    "**Converting Data type of the columns to the right type**"
   ]
  },
  {
   "cell_type": "code",
   "execution_count": 7,
   "metadata": {},
   "outputs": [
    {
     "data": {
      "text/plain": [
       "Adult                    object\n",
       "Movie_Collection         object\n",
       "Budget                   object\n",
       "Genres                   object\n",
       "ID                       object\n",
       "IMDB_ID                  object\n",
       "Original_Language        object\n",
       "Original_Title           object\n",
       "Overview                 object\n",
       "Popularity               object\n",
       "poster_path              object\n",
       "Production_Companies     object\n",
       "Production_Countries     object\n",
       "Release_Date             object\n",
       "Revenue                 float64\n",
       "Runtime                 float64\n",
       "Spoken_languages         object\n",
       "Status                   object\n",
       "Tagline                  object\n",
       "Title                    object\n",
       "Video                    object\n",
       "Ratings                 float64\n",
       "Voters_Count            float64\n",
       "dtype: object"
      ]
     },
     "execution_count": 7,
     "metadata": {},
     "output_type": "execute_result"
    }
   ],
   "source": [
    "movies_df.dtypes"
   ]
  },
  {
   "cell_type": "code",
   "execution_count": 8,
   "metadata": {},
   "outputs": [],
   "source": [
    "movies_df[\"Budget\"] = pd.to_numeric(movies_df[\"Budget\"], errors=\"coerce\")"
   ]
  },
  {
   "cell_type": "code",
   "execution_count": 9,
   "metadata": {},
   "outputs": [
    {
     "data": {
      "text/plain": [
       "dtype('float64')"
      ]
     },
     "execution_count": 9,
     "metadata": {},
     "output_type": "execute_result"
    }
   ],
   "source": [
    "movies_df.dtypes[\"Budget\"]"
   ]
  },
  {
   "cell_type": "markdown",
   "metadata": {},
   "source": [
    "**Getting Information about our Dataset Like Total Number Rows, Total Number of Columns, Datatypes of Each Column and Memory Requirement**"
   ]
  },
  {
   "cell_type": "code",
   "execution_count": 10,
   "metadata": {},
   "outputs": [
    {
     "name": "stdout",
     "output_type": "stream",
     "text": [
      "<class 'pandas.core.frame.DataFrame'>\n",
      "RangeIndex: 45466 entries, 0 to 45465\n",
      "Data columns (total 23 columns):\n",
      " #   Column                Non-Null Count  Dtype  \n",
      "---  ------                --------------  -----  \n",
      " 0   Adult                 45466 non-null  object \n",
      " 1   Movie_Collection      4494 non-null   object \n",
      " 2   Budget                45463 non-null  float64\n",
      " 3   Genres                45466 non-null  object \n",
      " 4   ID                    45466 non-null  object \n",
      " 5   IMDB_ID               45449 non-null  object \n",
      " 6   Original_Language     45455 non-null  object \n",
      " 7   Original_Title        45466 non-null  object \n",
      " 8   Overview              44512 non-null  object \n",
      " 9   Popularity            45461 non-null  object \n",
      " 10  poster_path           45080 non-null  object \n",
      " 11  Production_Companies  45463 non-null  object \n",
      " 12  Production_Countries  45463 non-null  object \n",
      " 13  Release_Date          45379 non-null  object \n",
      " 14  Revenue               45460 non-null  float64\n",
      " 15  Runtime               45203 non-null  float64\n",
      " 16  Spoken_languages      45460 non-null  object \n",
      " 17  Status                45379 non-null  object \n",
      " 18  Tagline               20412 non-null  object \n",
      " 19  Title                 45460 non-null  object \n",
      " 20  Video                 45460 non-null  object \n",
      " 21  Ratings               45460 non-null  float64\n",
      " 22  Voters_Count          45460 non-null  float64\n",
      "dtypes: float64(5), object(18)\n",
      "memory usage: 8.0+ MB\n"
     ]
    }
   ],
   "source": [
    "movies_df.info()"
   ]
  },
  {
   "cell_type": "code",
   "execution_count": 11,
   "metadata": {},
   "outputs": [
    {
     "data": {
      "text/plain": [
       "<Axes: >"
      ]
     },
     "execution_count": 11,
     "metadata": {},
     "output_type": "execute_result"
    },
    {
     "data": {
      "image/png": "[encoded data removed]",
      "text/plain": [
       "<Figure size 640x480 with 2 Axes>"
      ]
     },
     "metadata": {},
     "output_type": "display_data"
    }
   ],
   "source": [
    "sns.heatmap(movies_df.isnull())"
   ]
  },
  {
   "cell_type": "code",
   "execution_count": 12,
   "metadata": {},
   "outputs": [
    {
     "data": {
      "text/plain": [
       "Adult                    0.000000\n",
       "Movie_Collection        90.115691\n",
       "Budget                   0.006598\n",
       "Genres                   0.000000\n",
       "ID                       0.000000\n",
       "IMDB_ID                  0.037391\n",
       "Original_Language        0.024194\n",
       "Original_Title           0.000000\n",
       "Overview                 2.098271\n",
       "Popularity               0.010997\n",
       "poster_path              0.848986\n",
       "Production_Companies     0.006598\n",
       "Production_Countries     0.006598\n",
       "Release_Date             0.191352\n",
       "Revenue                  0.013197\n",
       "Runtime                  0.578454\n",
       "Spoken_languages         0.013197\n",
       "Status                   0.191352\n",
       "Tagline                 55.104914\n",
       "Title                    0.013197\n",
       "Video                    0.013197\n",
       "Ratings                  0.013197\n",
       "Voters_Count             0.013197\n",
       "dtype: float64"
      ]
     },
     "execution_count": 12,
     "metadata": {},
     "output_type": "execute_result"
    }
   ],
   "source": [
    "per_missing = movies_df.isnull().sum() * 100 / len(movies_df)\n",
    "per_missing"
   ]
  },
  {
   "cell_type": "markdown",
   "metadata": {},
   "source": [
    "**Drop All The Missing Values**"
   ]
  },
  {
   "cell_type": "code",
   "execution_count": 13,
   "metadata": {},
   "outputs": [
    {
     "data": {
      "text/plain": [
       "0        en\n",
       "1        en\n",
       "2        en\n",
       "3        en\n",
       "4        en\n",
       "         ..\n",
       "45461    fa\n",
       "45462    tl\n",
       "45463    en\n",
       "45464    en\n",
       "45465    en\n",
       "Name: Original_Language, Length: 45455, dtype: object"
      ]
     },
     "execution_count": 13,
     "metadata": {},
     "output_type": "execute_result"
    }
   ],
   "source": [
    "movies_df[\"Original_Language\"].dropna(axis=0)"
   ]
  },
  {
   "cell_type": "markdown",
   "metadata": {},
   "source": [
    "**Check for Duplicate Data**"
   ]
  },
  {
   "cell_type": "code",
   "execution_count": 14,
   "metadata": {},
   "outputs": [],
   "source": [
    "dup_data = movies_df.duplicated().any()"
   ]
  },
  {
   "cell_type": "code",
   "execution_count": 15,
   "metadata": {},
   "outputs": [
    {
     "name": "stdout",
     "output_type": "stream",
     "text": [
      "Are there any duplicates values? True\n"
     ]
    }
   ],
   "source": [
    "print(\"Are there any duplicates values?\", dup_data)"
   ]
  },
  {
   "cell_type": "markdown",
   "metadata": {},
   "source": [
    "**Get Overall Statistics About The DataFrame**"
   ]
  },
  {
   "cell_type": "code",
   "execution_count": 16,
   "metadata": {},
   "outputs": [
    {
     "data": {
      "text/html": [
       "<div>\n",
       "<style scoped>\n",
       "    .dataframe tbody tr th:only-of-type {\n",
       "        vertical-align: middle;\n",
       "    }\n",
       "\n",
       "    .dataframe tbody tr th {\n",
       "        vertical-align: top;\n",
       "    }\n",
       "\n",
       "    .dataframe thead th {\n",
       "        text-align: right;\n",
       "    }\n",
       "</style>\n",
       "<table border=\"1\" class=\"dataframe\">\n",
       "  <thead>\n",
       "    <tr style=\"text-align: right;\">\n",
       "      <th></th>\n",
       "      <th>Adult</th>\n",
       "      <th>Movie_Collection</th>\n",
       "      <th>Budget</th>\n",
       "      <th>Genres</th>\n",
       "      <th>ID</th>\n",
       "      <th>IMDB_ID</th>\n",
       "      <th>Original_Language</th>\n",
       "      <th>Original_Title</th>\n",
       "      <th>Overview</th>\n",
       "      <th>Popularity</th>\n",
       "      <th>poster_path</th>\n",
       "      <th>Production_Companies</th>\n",
       "      <th>Production_Countries</th>\n",
       "      <th>Release_Date</th>\n",
       "      <th>Revenue</th>\n",
       "      <th>Runtime</th>\n",
       "      <th>Spoken_languages</th>\n",
       "      <th>Status</th>\n",
       "      <th>Tagline</th>\n",
       "      <th>Title</th>\n",
       "      <th>Video</th>\n",
       "      <th>Ratings</th>\n",
       "      <th>Voters_Count</th>\n",
       "    </tr>\n",
       "  </thead>\n",
       "  <tbody>\n",
       "    <tr>\n",
       "      <th>count</th>\n",
       "      <td>45466</td>\n",
       "      <td>4494</td>\n",
       "      <td>4.546300e+04</td>\n",
       "      <td>45466</td>\n",
       "      <td>45466</td>\n",
       "      <td>45449</td>\n",
       "      <td>45455</td>\n",
       "      <td>45466</td>\n",
       "      <td>44512</td>\n",
       "      <td>45461</td>\n",
       "      <td>45080</td>\n",
       "      <td>45463</td>\n",
       "      <td>45463</td>\n",
       "      <td>45379</td>\n",
       "      <td>4.546000e+04</td>\n",
       "      <td>45203.000000</td>\n",
       "      <td>45460</td>\n",
       "      <td>45379</td>\n",
       "      <td>20412</td>\n",
       "      <td>45460</td>\n",
       "      <td>45460</td>\n",
       "      <td>45460.000000</td>\n",
       "      <td>45460.000000</td>\n",
       "    </tr>\n",
       "    <tr>\n",
       "      <th>unique</th>\n",
       "      <td>5</td>\n",
       "      <td>1698</td>\n",
       "      <td>NaN</td>\n",
       "      <td>4069</td>\n",
       "      <td>45436</td>\n",
       "      <td>45417</td>\n",
       "      <td>92</td>\n",
       "      <td>43373</td>\n",
       "      <td>44307</td>\n",
       "      <td>44176</td>\n",
       "      <td>45024</td>\n",
       "      <td>22708</td>\n",
       "      <td>2393</td>\n",
       "      <td>17336</td>\n",
       "      <td>NaN</td>\n",
       "      <td>NaN</td>\n",
       "      <td>1931</td>\n",
       "      <td>6</td>\n",
       "      <td>20283</td>\n",
       "      <td>42277</td>\n",
       "      <td>2</td>\n",
       "      <td>NaN</td>\n",
       "      <td>NaN</td>\n",
       "    </tr>\n",
       "    <tr>\n",
       "      <th>top</th>\n",
       "      <td>False</td>\n",
       "      <td>{'id': 415931, 'name': 'The Bowery Boys', 'pos...</td>\n",
       "      <td>NaN</td>\n",
       "      <td>[{'id': 18, 'name': 'Drama'}]</td>\n",
       "      <td>141971</td>\n",
       "      <td>tt1180333</td>\n",
       "      <td>en</td>\n",
       "      <td>Hamlet</td>\n",
       "      <td>No overview found.</td>\n",
       "      <td>0.0</td>\n",
       "      <td>/5D7UBSEgdyONE6Lql6xS7s6OLcW.jpg</td>\n",
       "      <td>[]</td>\n",
       "      <td>[{'iso_3166_1': 'US', 'name': 'United States o...</td>\n",
       "      <td>2008-01-01</td>\n",
       "      <td>NaN</td>\n",
       "      <td>NaN</td>\n",
       "      <td>[{'iso_639_1': 'en', 'name': 'English'}]</td>\n",
       "      <td>Released</td>\n",
       "      <td>Based on a true story.</td>\n",
       "      <td>Cinderella</td>\n",
       "      <td>False</td>\n",
       "      <td>NaN</td>\n",
       "      <td>NaN</td>\n",
       "    </tr>\n",
       "    <tr>\n",
       "      <th>freq</th>\n",
       "      <td>45454</td>\n",
       "      <td>29</td>\n",
       "      <td>NaN</td>\n",
       "      <td>5000</td>\n",
       "      <td>3</td>\n",
       "      <td>3</td>\n",
       "      <td>32269</td>\n",
       "      <td>8</td>\n",
       "      <td>133</td>\n",
       "      <td>34</td>\n",
       "      <td>5</td>\n",
       "      <td>11875</td>\n",
       "      <td>17851</td>\n",
       "      <td>136</td>\n",
       "      <td>NaN</td>\n",
       "      <td>NaN</td>\n",
       "      <td>22395</td>\n",
       "      <td>45014</td>\n",
       "      <td>7</td>\n",
       "      <td>11</td>\n",
       "      <td>45367</td>\n",
       "      <td>NaN</td>\n",
       "      <td>NaN</td>\n",
       "    </tr>\n",
       "    <tr>\n",
       "      <th>mean</th>\n",
       "      <td>NaN</td>\n",
       "      <td>NaN</td>\n",
       "      <td>4.224579e+06</td>\n",
       "      <td>NaN</td>\n",
       "      <td>NaN</td>\n",
       "      <td>NaN</td>\n",
       "      <td>NaN</td>\n",
       "      <td>NaN</td>\n",
       "      <td>NaN</td>\n",
       "      <td>NaN</td>\n",
       "      <td>NaN</td>\n",
       "      <td>NaN</td>\n",
       "      <td>NaN</td>\n",
       "      <td>NaN</td>\n",
       "      <td>1.120935e+07</td>\n",
       "      <td>94.128199</td>\n",
       "      <td>NaN</td>\n",
       "      <td>NaN</td>\n",
       "      <td>NaN</td>\n",
       "      <td>NaN</td>\n",
       "      <td>NaN</td>\n",
       "      <td>5.618207</td>\n",
       "      <td>109.897338</td>\n",
       "    </tr>\n",
       "    <tr>\n",
       "      <th>std</th>\n",
       "      <td>NaN</td>\n",
       "      <td>NaN</td>\n",
       "      <td>1.742413e+07</td>\n",
       "      <td>NaN</td>\n",
       "      <td>NaN</td>\n",
       "      <td>NaN</td>\n",
       "      <td>NaN</td>\n",
       "      <td>NaN</td>\n",
       "      <td>NaN</td>\n",
       "      <td>NaN</td>\n",
       "      <td>NaN</td>\n",
       "      <td>NaN</td>\n",
       "      <td>NaN</td>\n",
       "      <td>NaN</td>\n",
       "      <td>6.433225e+07</td>\n",
       "      <td>38.407810</td>\n",
       "      <td>NaN</td>\n",
       "      <td>NaN</td>\n",
       "      <td>NaN</td>\n",
       "      <td>NaN</td>\n",
       "      <td>NaN</td>\n",
       "      <td>1.924216</td>\n",
       "      <td>491.310374</td>\n",
       "    </tr>\n",
       "    <tr>\n",
       "      <th>min</th>\n",
       "      <td>NaN</td>\n",
       "      <td>NaN</td>\n",
       "      <td>0.000000e+00</td>\n",
       "      <td>NaN</td>\n",
       "      <td>NaN</td>\n",
       "      <td>NaN</td>\n",
       "      <td>NaN</td>\n",
       "      <td>NaN</td>\n",
       "      <td>NaN</td>\n",
       "      <td>NaN</td>\n",
       "      <td>NaN</td>\n",
       "      <td>NaN</td>\n",
       "      <td>NaN</td>\n",
       "      <td>NaN</td>\n",
       "      <td>0.000000e+00</td>\n",
       "      <td>0.000000</td>\n",
       "      <td>NaN</td>\n",
       "      <td>NaN</td>\n",
       "      <td>NaN</td>\n",
       "      <td>NaN</td>\n",
       "      <td>NaN</td>\n",
       "      <td>0.000000</td>\n",
       "      <td>0.000000</td>\n",
       "    </tr>\n",
       "    <tr>\n",
       "      <th>25%</th>\n",
       "      <td>NaN</td>\n",
       "      <td>NaN</td>\n",
       "      <td>0.000000e+00</td>\n",
       "      <td>NaN</td>\n",
       "      <td>NaN</td>\n",
       "      <td>NaN</td>\n",
       "      <td>NaN</td>\n",
       "      <td>NaN</td>\n",
       "      <td>NaN</td>\n",
       "      <td>NaN</td>\n",
       "      <td>NaN</td>\n",
       "      <td>NaN</td>\n",
       "      <td>NaN</td>\n",
       "      <td>NaN</td>\n",
       "      <td>0.000000e+00</td>\n",
       "      <td>85.000000</td>\n",
       "      <td>NaN</td>\n",
       "      <td>NaN</td>\n",
       "      <td>NaN</td>\n",
       "      <td>NaN</td>\n",
       "      <td>NaN</td>\n",
       "      <td>5.000000</td>\n",
       "      <td>3.000000</td>\n",
       "    </tr>\n",
       "    <tr>\n",
       "      <th>50%</th>\n",
       "      <td>NaN</td>\n",
       "      <td>NaN</td>\n",
       "      <td>0.000000e+00</td>\n",
       "      <td>NaN</td>\n",
       "      <td>NaN</td>\n",
       "      <td>NaN</td>\n",
       "      <td>NaN</td>\n",
       "      <td>NaN</td>\n",
       "      <td>NaN</td>\n",
       "      <td>NaN</td>\n",
       "      <td>NaN</td>\n",
       "      <td>NaN</td>\n",
       "      <td>NaN</td>\n",
       "      <td>NaN</td>\n",
       "      <td>0.000000e+00</td>\n",
       "      <td>95.000000</td>\n",
       "      <td>NaN</td>\n",
       "      <td>NaN</td>\n",
       "      <td>NaN</td>\n",
       "      <td>NaN</td>\n",
       "      <td>NaN</td>\n",
       "      <td>6.000000</td>\n",
       "      <td>10.000000</td>\n",
       "    </tr>\n",
       "    <tr>\n",
       "      <th>75%</th>\n",
       "      <td>NaN</td>\n",
       "      <td>NaN</td>\n",
       "      <td>0.000000e+00</td>\n",
       "      <td>NaN</td>\n",
       "      <td>NaN</td>\n",
       "      <td>NaN</td>\n",
       "      <td>NaN</td>\n",
       "      <td>NaN</td>\n",
       "      <td>NaN</td>\n",
       "      <td>NaN</td>\n",
       "      <td>NaN</td>\n",
       "      <td>NaN</td>\n",
       "      <td>NaN</td>\n",
       "      <td>NaN</td>\n",
       "      <td>0.000000e+00</td>\n",
       "      <td>107.000000</td>\n",
       "      <td>NaN</td>\n",
       "      <td>NaN</td>\n",
       "      <td>NaN</td>\n",
       "      <td>NaN</td>\n",
       "      <td>NaN</td>\n",
       "      <td>6.800000</td>\n",
       "      <td>34.000000</td>\n",
       "    </tr>\n",
       "    <tr>\n",
       "      <th>max</th>\n",
       "      <td>NaN</td>\n",
       "      <td>NaN</td>\n",
       "      <td>3.800000e+08</td>\n",
       "      <td>NaN</td>\n",
       "      <td>NaN</td>\n",
       "      <td>NaN</td>\n",
       "      <td>NaN</td>\n",
       "      <td>NaN</td>\n",
       "      <td>NaN</td>\n",
       "      <td>NaN</td>\n",
       "      <td>NaN</td>\n",
       "      <td>NaN</td>\n",
       "      <td>NaN</td>\n",
       "      <td>NaN</td>\n",
       "      <td>2.787965e+09</td>\n",
       "      <td>1256.000000</td>\n",
       "      <td>NaN</td>\n",
       "      <td>NaN</td>\n",
       "      <td>NaN</td>\n",
       "      <td>NaN</td>\n",
       "      <td>NaN</td>\n",
       "      <td>10.000000</td>\n",
       "      <td>14075.000000</td>\n",
       "    </tr>\n",
       "  </tbody>\n",
       "</table>\n",
       "</div>"
      ],
      "text/plain": [
       "        Adult                                   Movie_Collection  \\\n",
       "count   45466                                               4494   \n",
       "unique      5                                               1698   \n",
       "top     False  {'id': 415931, 'name': 'The Bowery Boys', 'pos...   \n",
       "freq    45454                                                 29   \n",
       "mean      NaN                                                NaN   \n",
       "std       NaN                                                NaN   \n",
       "min       NaN                                                NaN   \n",
       "25%       NaN                                                NaN   \n",
       "50%       NaN                                                NaN   \n",
       "75%       NaN                                                NaN   \n",
       "max       NaN                                                NaN   \n",
       "\n",
       "              Budget                         Genres      ID    IMDB_ID  \\\n",
       "count   4.546300e+04                          45466   45466      45449   \n",
       "unique           NaN                           4069   45436      45417   \n",
       "top              NaN  [{'id': 18, 'name': 'Drama'}]  141971  tt1180333   \n",
       "freq             NaN                           5000       3          3   \n",
       "mean    4.224579e+06                            NaN     NaN        NaN   \n",
       "std     1.742413e+07                            NaN     NaN        NaN   \n",
       "min     0.000000e+00                            NaN     NaN        NaN   \n",
       "25%     0.000000e+00                            NaN     NaN        NaN   \n",
       "50%     0.000000e+00                            NaN     NaN        NaN   \n",
       "75%     0.000000e+00                            NaN     NaN        NaN   \n",
       "max     3.800000e+08                            NaN     NaN        NaN   \n",
       "\n",
       "       Original_Language Original_Title            Overview Popularity  \\\n",
       "count              45455          45466               44512      45461   \n",
       "unique                92          43373               44307      44176   \n",
       "top                   en         Hamlet  No overview found.        0.0   \n",
       "freq               32269              8                 133         34   \n",
       "mean                 NaN            NaN                 NaN        NaN   \n",
       "std                  NaN            NaN                 NaN        NaN   \n",
       "min                  NaN            NaN                 NaN        NaN   \n",
       "25%                  NaN            NaN                 NaN        NaN   \n",
       "50%                  NaN            NaN                 NaN        NaN   \n",
       "75%                  NaN            NaN                 NaN        NaN   \n",
       "max                  NaN            NaN                 NaN        NaN   \n",
       "\n",
       "                             poster_path Production_Companies  \\\n",
       "count                              45080                45463   \n",
       "unique                             45024                22708   \n",
       "top     /5D7UBSEgdyONE6Lql6xS7s6OLcW.jpg                   []   \n",
       "freq                                   5                11875   \n",
       "mean                                 NaN                  NaN   \n",
       "std                                  NaN                  NaN   \n",
       "min                                  NaN                  NaN   \n",
       "25%                                  NaN                  NaN   \n",
       "50%                                  NaN                  NaN   \n",
       "75%                                  NaN                  NaN   \n",
       "max                                  NaN                  NaN   \n",
       "\n",
       "                                     Production_Countries Release_Date  \\\n",
       "count                                               45463        45379   \n",
       "unique                                               2393        17336   \n",
       "top     [{'iso_3166_1': 'US', 'name': 'United States o...   2008-01-01   \n",
       "freq                                                17851          136   \n",
       "mean                                                  NaN          NaN   \n",
       "std                                                   NaN          NaN   \n",
       "min                                                   NaN          NaN   \n",
       "25%                                                   NaN          NaN   \n",
       "50%                                                   NaN          NaN   \n",
       "75%                                                   NaN          NaN   \n",
       "max                                                   NaN          NaN   \n",
       "\n",
       "             Revenue       Runtime                          Spoken_languages  \\\n",
       "count   4.546000e+04  45203.000000                                     45460   \n",
       "unique           NaN           NaN                                      1931   \n",
       "top              NaN           NaN  [{'iso_639_1': 'en', 'name': 'English'}]   \n",
       "freq             NaN           NaN                                     22395   \n",
       "mean    1.120935e+07     94.128199                                       NaN   \n",
       "std     6.433225e+07     38.407810                                       NaN   \n",
       "min     0.000000e+00      0.000000                                       NaN   \n",
       "25%     0.000000e+00     85.000000                                       NaN   \n",
       "50%     0.000000e+00     95.000000                                       NaN   \n",
       "75%     0.000000e+00    107.000000                                       NaN   \n",
       "max     2.787965e+09   1256.000000                                       NaN   \n",
       "\n",
       "          Status                 Tagline       Title  Video       Ratings  \\\n",
       "count      45379                   20412       45460  45460  45460.000000   \n",
       "unique         6                   20283       42277      2           NaN   \n",
       "top     Released  Based on a true story.  Cinderella  False           NaN   \n",
       "freq       45014                       7          11  45367           NaN   \n",
       "mean         NaN                     NaN         NaN    NaN      5.618207   \n",
       "std          NaN                     NaN         NaN    NaN      1.924216   \n",
       "min          NaN                     NaN         NaN    NaN      0.000000   \n",
       "25%          NaN                     NaN         NaN    NaN      5.000000   \n",
       "50%          NaN                     NaN         NaN    NaN      6.000000   \n",
       "75%          NaN                     NaN         NaN    NaN      6.800000   \n",
       "max          NaN                     NaN         NaN    NaN     10.000000   \n",
       "\n",
       "        Voters_Count  \n",
       "count   45460.000000  \n",
       "unique           NaN  \n",
       "top              NaN  \n",
       "freq             NaN  \n",
       "mean      109.897338  \n",
       "std       491.310374  \n",
       "min         0.000000  \n",
       "25%         3.000000  \n",
       "50%        10.000000  \n",
       "75%        34.000000  \n",
       "max     14075.000000  "
      ]
     },
     "execution_count": 16,
     "metadata": {},
     "output_type": "execute_result"
    }
   ],
   "source": [
    "movies_df.describe(include=\"all\")"
   ]
  },
  {
   "cell_type": "markdown",
   "metadata": {},
   "source": [
    "**Which language has the highest average Voting**"
   ]
  },
  {
   "cell_type": "code",
   "execution_count": 17,
   "metadata": {},
   "outputs": [
    {
     "data": {
      "text/plain": [
       "Index(['Adult', 'Movie_Collection', 'Budget', 'Genres', 'ID', 'IMDB_ID',\n",
       "       'Original_Language', 'Original_Title', 'Overview', 'Popularity',\n",
       "       'poster_path', 'Production_Companies', 'Production_Countries',\n",
       "       'Release_Date', 'Revenue', 'Runtime', 'Spoken_languages', 'Status',\n",
       "       'Tagline', 'Title', 'Video', 'Ratings', 'Voters_Count'],\n",
       "      dtype='object')"
      ]
     },
     "execution_count": 17,
     "metadata": {},
     "output_type": "execute_result"
    }
   ],
   "source": [
    "movies_df.columns"
   ]
  },
  {
   "cell_type": "code",
   "execution_count": 35,
   "metadata": {},
   "outputs": [
    {
     "name": "stdout",
     "output_type": "stream",
     "text": [
      "\n",
      "Top 10 Languages:\n",
      "Original_Language\n",
      "en    32269\n",
      "fr     2438\n",
      "it     1529\n",
      "ja     1350\n",
      "de     1080\n",
      "es      994\n",
      "ru      826\n",
      "hi      508\n",
      "ko      444\n",
      "zh      409\n",
      "Name: count, dtype: int64\n"
     ]
    }
   ],
   "source": [
    "# Present Top Languages\n",
    "language_counts = movies_df[\"Original_Language\"].value_counts()\n",
    "\n",
    "# Display the Top 10 results\n",
    "print(\"\\nTop 10 Languages:\")\n",
    "print(language_counts.head(10))"
   ]
  },
  {
   "cell_type": "code",
   "execution_count": 37,
   "metadata": {},
   "outputs": [],
   "source": [
    "# Filter for the languages \"en\", \"ger\", \"fr\", \"esp\"\n",
    "top_languages = [\"en\", \"de\", \"fr\", \"it\", \"ja\", \"es\"]\n",
    "\n",
    "# Filter the DataFrame\n",
    "filtered_df = movies_df[movies_df[\"Original_Language\"].isin(top_languages)]"
   ]
  },
  {
   "cell_type": "code",
   "execution_count": 44,
   "metadata": {},
   "outputs": [
    {
     "name": "stdout",
     "output_type": "stream",
     "text": [
      "Original_Language\n",
      "de    5.863148\n",
      "en    5.491171\n",
      "es    5.695171\n",
      "fr    6.056481\n",
      "it    5.458797\n",
      "ja    6.274203\n",
      "Name: Ratings, dtype: float64\n"
     ]
    }
   ],
   "source": [
    "# Calculate the average ratings for each language\n",
    "average_ratings = filtered_df.groupby('Original_Language')['Ratings'].mean()\n",
    "print(average_ratings)"
   ]
  },
  {
   "cell_type": "code",
   "execution_count": 41,
   "metadata": {},
   "outputs": [
    {
     "data": {
      "image/png": "[encoded data removed]",
      "text/plain": [
       "<Figure size 1000x500 with 1 Axes>"
      ]
     },
     "metadata": {},
     "output_type": "display_data"
    }
   ],
   "source": [
    "# Create the Bar Plot\n",
    "plt.figure(figsize=(10,5))\n",
    "sns.barplot(x=\"Original_Language\", y=\"Ratings\", data=filtered_df)\n",
    "plt.title(\"Ratings for selected Languages (en, de, fr, it, ja, es)\")\n",
    "plt.show()"
   ]
  },
  {
   "cell_type": "code",
   "execution_count": 19,
   "metadata": {},
   "outputs": [
    {
     "data": {
      "text/plain": [
       "<Axes: xlabel='Original_Language', ylabel='Ratings'>"
      ]
     },
     "execution_count": 19,
     "metadata": {},
     "output_type": "execute_result"
    },
    {
     "data": {
      "image/png": "[encoded data removed]",
      "text/plain": [
       "<Figure size 640x480 with 1 Axes>"
      ]
     },
     "metadata": {},
     "output_type": "display_data"
    }
   ],
   "source": [
    "sns.barplot(x=\"Original_Language\", y=\"Ratings\", data=movies_df)"
   ]
  }
 ],
 "metadata": {
  "kernelspec": {
   "display_name": "Python 3",
   "language": "python",
   "name": "python3"
  },
  "language_info": {
   "codemirror_mode": {
    "name": "ipython",
    "version": 3
   },
   "file_extension": ".py",
   "mimetype": "text/x-python",
   "name": "python",
   "nbconvert_exporter": "python",
   "pygments_lexer": "ipython3",
   "version": "3.12.3"
  }
 },
 "nbformat": 4,
 "nbformat_minor": 2
}
