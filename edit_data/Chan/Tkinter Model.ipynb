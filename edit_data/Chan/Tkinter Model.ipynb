{
 "cells": [
  {
   "cell_type": "code",
   "execution_count": 4,
   "metadata": {},
   "outputs": [],
   "source": [
    "import pandas as pd\n",
    "import numpy as np\n",
    "import matplotlib.pylab as plt\n",
    "import seaborn as sns\n",
    "import json\n",
    "import re\n",
    "import nltk\n",
    "import tkinter as tk\n",
    "from tkinter import ttk"
   ]
  },
  {
   "cell_type": "code",
   "execution_count": 2,
   "metadata": {},
   "outputs": [
    {
     "name": "stderr",
     "output_type": "stream",
     "text": [
      "C:\\Users\\chanc\\AppData\\Local\\Temp\\ipykernel_15856\\721637515.py:1: DtypeWarning: Columns (10) have mixed types. Specify dtype option on import or set low_memory=False.\n",
      "  movies_df = pd.read_csv(\"source_data/movies_metadata.csv\")\n"
     ]
    }
   ],
   "source": [
    "movies_df = pd.read_csv(\"source_data/movies_metadata.csv\")\n"
   ]
  },
  {
   "cell_type": "code",
   "execution_count": 6,
   "metadata": {},
   "outputs": [],
   "source": [
    "# Initialize the main window\n",
    "root = tk.Tk()\n",
    "root.title(\"Movie Recommender\")\n",
    "\n",
    "# Define the function to show recommendations\n",
    "def show_recommendations():\n",
    "    genre = genre_input.get()\n",
    "    year = year_input.get()\n",
    "    rating = rating_input.get()\n",
    "    recommendations = recommend_movies(genre, year, rating)\n",
    "    result_var.set(\"\\n\".join(recommendations))\n",
    "\n",
    "# Simple recommendation function considering multiple inputs\n",
    "def recommend_movies(genre, year, rating):\n",
    "    filtered_movies = movies_df\n",
    "    \n",
    "    if genre:\n",
    "        filtered_movies = filtered_movies[filtered_movies['genres'].str.contains(genre, case=False, na=False)]\n",
    "    if year:\n",
    "        filtered_movies = filtered_movies[filtered_movies['release_date'].str.contains(year, na=False)]\n",
    "    if rating:\n",
    "        filtered_movies = filtered_movies[filtered_movies['vote_average'] >= float(rating)]\n",
    "    \n",
    "    top_movies = filtered_movies.head(10)['title'].tolist()\n",
    "    return top_movies\n",
    "\n",
    "# Add a label and entry for genre input\n",
    "ttk.Label(root, text=\"Enter your preferred genre:\").grid(column=0, row=0, padx=10, pady=10)\n",
    "genre_input = ttk.Entry(root)\n",
    "genre_input.grid(column=1, row=0, padx=10, pady=10)\n",
    "\n",
    "# Add a label and entry for year input\n",
    "ttk.Label(root, text=\"Enter release year:\").grid(column=0, row=1, padx=10, pady=10)\n",
    "year_input = ttk.Entry(root)\n",
    "year_input.grid(column=1, row=1, padx=10, pady=10)\n",
    "\n",
    "# Add a label and entry for rating input\n",
    "ttk.Label(root, text=\"Enter minimum rating:\").grid(column=0, row=2, padx=10, pady=10)\n",
    "rating_input = ttk.Entry(root)\n",
    "rating_input.grid(column=1, row=2, padx=10, pady=10)\n",
    "\n",
    "# Add a button to trigger recommendation\n",
    "ttk.Button(root, text=\"Get Recommendations\", command=show_recommendations).grid(column=0, row=3, columnspan=2, padx=10, pady=10)\n",
    "\n",
    "# Add a label to display the results\n",
    "result_var = tk.StringVar()\n",
    "ttk.Label(root, textvariable=result_var).grid(column=0, row=4, columnspan=2, padx=10, pady=10)\n",
    "\n",
    "# Run the application\n",
    "root.mainloop()\n"
   ]
  }
 ],
 "metadata": {
  "kernelspec": {
   "display_name": "Python 3",
   "language": "python",
   "name": "python3"
  },
  "language_info": {
   "codemirror_mode": {
    "name": "ipython",
    "version": 3
   },
   "file_extension": ".py",
   "mimetype": "text/x-python",
   "name": "python",
   "nbconvert_exporter": "python",
   "pygments_lexer": "ipython3",
   "version": "3.12.4"
  }
 },
 "nbformat": 4,
 "nbformat_minor": 2
}
