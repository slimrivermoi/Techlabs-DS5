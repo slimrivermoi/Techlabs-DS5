{
 "cells": [
  {
   "cell_type": "code",
   "execution_count": 1,
   "metadata": {},
   "outputs": [],
   "source": [
    "import pandas as pd\n",
    "import numpy as np\n",
    "import matplotlib.pylab as plt\n",
    "import seaborn as sns\n",
    "import json\n",
    "import re\n",
    "import nltk\n",
    "import tkinter as tk\n",
    "from tkinter import ttk\n",
    "import ast"
   ]
  },
  {
   "cell_type": "code",
   "execution_count": 2,
   "metadata": {},
   "outputs": [
    {
     "name": "stderr",
     "output_type": "stream",
     "text": [
      "C:\\Users\\chanc\\AppData\\Local\\Temp\\ipykernel_12652\\721637515.py:1: DtypeWarning: Columns (10) have mixed types. Specify dtype option on import or set low_memory=False.\n",
      "  movies_df = pd.read_csv(\"source_data/movies_metadata.csv\")\n"
     ]
    }
   ],
   "source": [
    "movies_df = pd.read_csv(\"source_data/movies_metadata.csv\")\n"
   ]
  },
  {
   "cell_type": "code",
   "execution_count": 3,
   "metadata": {},
   "outputs": [
    {
     "data": {
      "text/plain": [
       "Index(['adult', 'belongs_to_collection', 'budget', 'genres', 'homepage', 'id',\n",
       "       'imdb_id', 'original_language', 'original_title', 'overview',\n",
       "       'popularity', 'poster_path', 'production_companies',\n",
       "       'production_countries', 'release_date', 'revenue', 'runtime',\n",
       "       'spoken_languages', 'status', 'tagline', 'title', 'video',\n",
       "       'vote_average', 'vote_count'],\n",
       "      dtype='object')"
      ]
     },
     "execution_count": 3,
     "metadata": {},
     "output_type": "execute_result"
    }
   ],
   "source": [
    "movies_df.columns"
   ]
  },
  {
   "cell_type": "code",
   "execution_count": 6,
   "metadata": {},
   "outputs": [],
   "source": [
    "# # Initialize the main window\n",
    "# root = tk.Tk()\n",
    "# root.title(\"Movie Recommender\")\n",
    "\n",
    "# # Define the function to show recommendations\n",
    "# def show_recommendations():\n",
    "#     genre = genre_input.get()\n",
    "#     year = year_input.get()\n",
    "#     rating = rating_input.get()\n",
    "#     recommendations = recommend_movies(genre, year, rating)\n",
    "#     result_var.set(\"\\n\".join(recommendations))\n",
    "\n",
    "# # Simple recommendation function considering multiple inputs\n",
    "# def recommend_movies(genre, year, rating):\n",
    "#     filtered_movies = movies_df\n",
    "    \n",
    "#     if genre:\n",
    "#         filtered_movies = filtered_movies[filtered_movies['genres'].str.contains(genre, case=False, na=False)]\n",
    "#     if year:\n",
    "#         filtered_movies = filtered_movies[filtered_movies['release_date'].str.contains(year, na=False)]\n",
    "#     if rating:\n",
    "#         filtered_movies = filtered_movies[filtered_movies['vote_average'] >= float(rating)]\n",
    "    \n",
    "#     top_movies = filtered_movies.head(10)['title'].tolist()\n",
    "#     return top_movies\n",
    "\n",
    "# # Add a label and entry for genre input\n",
    "# ttk.Label(root, text=\"Enter your preferred genre:\").grid(column=0, row=0, padx=10, pady=10)\n",
    "# genre_input = ttk.Entry(root)\n",
    "# genre_input.grid(column=1, row=0, padx=10, pady=10)\n",
    "\n",
    "# # Add a label and entry for year input\n",
    "# ttk.Label(root, text=\"Enter release year:\").grid(column=0, row=1, padx=10, pady=10)\n",
    "# year_input = ttk.Entry(root)\n",
    "# year_input.grid(column=1, row=1, padx=10, pady=10)\n",
    "\n",
    "# # Add a label and entry for rating input\n",
    "# ttk.Label(root, text=\"Enter minimum rating:\").grid(column=0, row=2, padx=10, pady=10)\n",
    "# rating_input = ttk.Entry(root)\n",
    "# rating_input.grid(column=1, row=2, padx=10, pady=10)\n",
    "\n",
    "# # Add a button to trigger recommendation\n",
    "# ttk.Button(root, text=\"Get Recommendations\", command=show_recommendations).grid(column=0, row=3, columnspan=2, padx=10, pady=10)\n",
    "\n",
    "# # Add a label to display the results\n",
    "# result_var = tk.StringVar()\n",
    "# ttk.Label(root, textvariable=result_var).grid(column=0, row=4, columnspan=2, padx=10, pady=10)\n",
    "\n",
    "# # Run the application\n",
    "# root.mainloop()\n"
   ]
  },
  {
   "cell_type": "code",
   "execution_count": 4,
   "metadata": {},
   "outputs": [
    {
     "name": "stdout",
     "output_type": "stream",
     "text": [
      "['Action', 'Adventure', 'Animation', 'Aniplex', 'BROSTA TV', 'Carousel Productions', 'Comedy', 'Crime', 'Documentary', 'Drama', 'Family', 'Fantasy', 'Foreign', 'GoHands', 'History', 'Horror', 'Mardock Scramble Production Committee', 'Music', 'Mystery', 'Odyssey Media', 'Pulser Productions', 'Rogue State', 'Romance', 'Science Fiction', 'Sentai Filmworks', 'TV Movie', 'Telescene Film Group Productions', 'The Cartel', 'Thriller', 'Vision View Entertainment', 'War', 'Western']\n"
     ]
    }
   ],
   "source": [
    "# Define a function to extract genres from a single row entry\n",
    "def extract_genres(genre_str):\n",
    "    try:\n",
    "        genres = ast.literal_eval(genre_str)  # Convert string to list of dicts\n",
    "        return [genre['name'] for genre in genres]\n",
    "    except:\n",
    "        return []\n",
    "\n",
    "# Use the function to extract genres for the entire column\n",
    "all_genres = set()\n",
    "movies_df['genres'].dropna().apply(lambda x: all_genres.update(extract_genres(x)))\n",
    "\n",
    "# Convert the set to a sorted list\n",
    "all_genres = sorted(list(all_genres))\n",
    "\n",
    "# Display all unique genres\n",
    "print(all_genres)"
   ]
  },
  {
   "cell_type": "code",
   "execution_count": 5,
   "metadata": {},
   "outputs": [
    {
     "data": {
      "text/plain": [
       "['The Deadly Companions', 'The Incredible Burt Wonderstone']"
      ]
     },
     "execution_count": 5,
     "metadata": {},
     "output_type": "execute_result"
    }
   ],
   "source": [
    "# Search for movies produced by \"Carousel Productions\"\n",
    "carousel_movies = movies_df[movies_df['production_companies'].str.contains(\"Carousel Productions\", case=False, na=False)]\n",
    "\n",
    "# Display the titles of the movies\n",
    "carousel_movie_titles = carousel_movies['title'].tolist()\n",
    "carousel_movie_titles\n"
   ]
  },
  {
   "cell_type": "code",
   "execution_count": 7,
   "metadata": {},
   "outputs": [],
   "source": [
    "# Extract unique genres from the dataset\n",
    "def extract_genres(genre_str):\n",
    "    try:\n",
    "        genres = ast.literal_eval(genre_str)\n",
    "        return [genre['name'] for genre in genres]\n",
    "    except:\n",
    "        return []\n",
    "\n",
    "# Extract the release year from the release_date column\n",
    "movies_df['release_year'] = pd.to_datetime(movies_df['release_date'], errors='coerce').dt.year\n",
    "\n",
    "all_genres = set()\n",
    "all_release_years = sorted(movies_df['release_year'].dropna().astype(int).unique(), reverse=True)\n",
    "\n",
    "movies_df['genres'].dropna().apply(lambda x: all_genres.update(extract_genres(x)))\n",
    "\n",
    "all_genres = sorted(list(all_genres))\n",
    "\n",
    "# Initialize the main window\n",
    "root = tk.Tk()\n",
    "root.title(\"Movie Recommender\")\n",
    "\n",
    "# Define the function to show recommendations\n",
    "def show_recommendations():\n",
    "    genre = genre_input.get()\n",
    "    release_year = release_year_input.get()\n",
    "    keywords = keyword_input.get()\n",
    "    recommendations = recommend_movies(genre, release_year, keywords)\n",
    "    result_var.set(\"\\n\".join(recommendations))\n",
    "\n",
    "# Calculate match percentage based on genre, release year, and keywords\n",
    "def calculate_match_percentage(row, genre, release_year, keywords):\n",
    "    match_score = 0\n",
    "    total_criteria = 3  # We have three criteria now: genre, release year, and keywords\n",
    "    \n",
    "    # Check genre match\n",
    "    if genre and genre != \"Any\":\n",
    "        if genre in extract_genres(row['genres']):\n",
    "            match_score += 1\n",
    "    \n",
    "    # Check release year match\n",
    "    if release_year and release_year != \"Any\":\n",
    "        if pd.notna(row['release_year']) and row['release_year'] == int(release_year):\n",
    "            match_score += 1\n",
    "            \n",
    "    # Check keyword match\n",
    "    if keywords:\n",
    "        if pd.notna(row['overview']) and keywords.lower() in row['overview'].lower():\n",
    "            match_score += 1\n",
    "    \n",
    "    # Calculate percentage\n",
    "    return (match_score / total_criteria) * 100\n",
    "\n",
    "# Recommendation function with percentage calculation\n",
    "def recommend_movies(genre, release_year, keywords):\n",
    "    filtered_movies = movies_df\n",
    "    \n",
    "    if genre and genre != \"Any\":\n",
    "        filtered_movies = filtered_movies[filtered_movies['genres'].str.contains(genre, case=False, na=False)]\n",
    "    if release_year and release_year != \"Any\":\n",
    "        filtered_movies = filtered_movies[filtered_movies['release_year'] == int(release_year)]\n",
    "    if keywords:\n",
    "        filtered_movies = filtered_movies[filtered_movies['overview'].str.contains(keywords, case=False, na=False)]\n",
    "    \n",
    "    # Calculate match percentages\n",
    "    filtered_movies['match_percentage'] = filtered_movies.apply(lambda row: calculate_match_percentage(row, genre, release_year, keywords), axis=1)\n",
    "    \n",
    "    # Sort by match percentage and limit to top 5\n",
    "    filtered_movies = filtered_movies.sort_values(by='match_percentage', ascending=False)\n",
    "    top_movies = filtered_movies.head(5)[['title', 'match_percentage']]\n",
    "    \n",
    "    # Format the output\n",
    "    result = [f\"{row['title']} - {row['match_percentage']:.2f}%\" for _, row in top_movies.iterrows()]\n",
    "    return result\n",
    "\n",
    "# Add a label and dropdown for genre selection\n",
    "ttk.Label(root, text=\"Select a genre:\").grid(column=0, row=0, padx=10, pady=10)\n",
    "genre_input = ttk.Combobox(root, values=[\"Any\"] + all_genres)\n",
    "genre_input.grid(column=1, row=0, padx=10, pady=10)\n",
    "genre_input.set(\"Any\")\n",
    "\n",
    "# Add a label and dropdown for release year selection\n",
    "ttk.Label(root, text=\"Select a release year:\").grid(column=0, row=1, padx=10, pady=10)\n",
    "release_year_input = ttk.Combobox(root, values=[\"Any\"] + [str(year) for year in all_release_years])\n",
    "release_year_input.grid(column=1, row=1, padx=10, pady=10)\n",
    "release_year_input.set(\"Any\")\n",
    "\n",
    "# Add a label and entry for keyword input\n",
    "ttk.Label(root, text=\"Enter keywords:\").grid(column=0, row=2, padx=10, pady=10)\n",
    "keyword_input = ttk.Entry(root)\n",
    "keyword_input.grid(column=1, row=2, padx=10, pady=10)\n",
    "\n",
    "# Add a button to trigger recommendation\n",
    "ttk.Button(root, text=\"Get Recommendations\", command=show_recommendations).grid(column=0, row=3, columnspan=2, padx=10, pady=10)\n",
    "\n",
    "# Add a label to display the results\n",
    "result_var = tk.StringVar()\n",
    "ttk.Label(root, textvariable=result_var).grid(column=0, row=4, columnspan=2, padx=10, pady=10)\n",
    "\n",
    "# Run the application\n",
    "root.mainloop()"
   ]
  }
 ],
 "metadata": {
  "kernelspec": {
   "display_name": "Python 3",
   "language": "python",
   "name": "python3"
  },
  "language_info": {
   "codemirror_mode": {
    "name": "ipython",
    "version": 3
   },
   "file_extension": ".py",
   "mimetype": "text/x-python",
   "name": "python",
   "nbconvert_exporter": "python",
   "pygments_lexer": "ipython3",
   "version": "3.12.4"
  }
 },
 "nbformat": 4,
 "nbformat_minor": 2
}
