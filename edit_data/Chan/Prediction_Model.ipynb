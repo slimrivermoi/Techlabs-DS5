{
 "cells": [
  {
   "cell_type": "markdown",
   "metadata": {},
   "source": [
    "**IMPORT LIBRARIES**"
   ]
  },
  {
   "cell_type": "code",
   "execution_count": 3,
   "metadata": {},
   "outputs": [],
   "source": [
    "import pandas as pd\n",
    "import numpy as np\n",
    "import matplotlib.pylab as plt\n",
    "import seaborn as sns\n",
    "import json\n",
    "import re\n",
    "import ast\n",
    "import nltk\n",
    "from collections import Counter\n",
    "from nltk.corpus import stopwords\n",
    "from sklearn.feature_extraction.text import TfidfVectorizer\n",
    "from sklearn.model_selection import train_test_split\n",
    "from sklearn.linear_model import LogisticRegression\n",
    "from sklearn.metrics import accuracy_score\n",
    "from sklearn.feature_extraction.text import TfidfVectorizer\n",
    "from sklearn.neighbors import NearestNeighbors\n"
   ]
  },
  {
   "cell_type": "markdown",
   "metadata": {},
   "source": [
    "**LOAD THE DATA**"
   ]
  },
  {
   "cell_type": "code",
   "execution_count": 4,
   "metadata": {},
   "outputs": [],
   "source": [
    "movies_df = pd.read_csv('../../edit_data/Lee/cleaned_data/movies_main.csv')  \n",
    "pd.set_option('display.max_columns', None)\n",
    "ratings = pd.read_csv('../../edit_data/Chan/source_data/ratings_small.csv')\n"
   ]
  },
  {
   "cell_type": "code",
   "execution_count": 5,
   "metadata": {},
   "outputs": [
    {
     "data": {
      "text/html": [
       "<div>\n",
       "<style scoped>\n",
       "    .dataframe tbody tr th:only-of-type {\n",
       "        vertical-align: middle;\n",
       "    }\n",
       "\n",
       "    .dataframe tbody tr th {\n",
       "        vertical-align: top;\n",
       "    }\n",
       "\n",
       "    .dataframe thead th {\n",
       "        text-align: right;\n",
       "    }\n",
       "</style>\n",
       "<table border=\"1\" class=\"dataframe\">\n",
       "  <thead>\n",
       "    <tr style=\"text-align: right;\">\n",
       "      <th></th>\n",
       "      <th>Id</th>\n",
       "      <th>Original_Title</th>\n",
       "      <th>Original_Language</th>\n",
       "      <th>Spoken_Languages</th>\n",
       "      <th>Budget</th>\n",
       "      <th>Revenue</th>\n",
       "      <th>Runtime</th>\n",
       "      <th>Release_Date</th>\n",
       "      <th>Production_Companies</th>\n",
       "      <th>Production_Countries</th>\n",
       "      <th>imdb_id</th>\n",
       "      <th>Popularity</th>\n",
       "      <th>Vote_Average</th>\n",
       "      <th>Vote_Count</th>\n",
       "      <th>Belongs_To_Collection</th>\n",
       "      <th>Tagline</th>\n",
       "      <th>Overview</th>\n",
       "      <th>Genres</th>\n",
       "      <th>Genres_Parse</th>\n",
       "      <th>Belongs_To_Collection_Parse</th>\n",
       "      <th>Spoken_Languages_Parse</th>\n",
       "      <th>Production_Companies_Parse</th>\n",
       "      <th>Production_Countries_Parse</th>\n",
       "      <th>Production_Countries_Code_Parse</th>\n",
       "      <th>Keywords</th>\n",
       "      <th>Keywords_parse</th>\n",
       "      <th>Cast_parse</th>\n",
       "      <th>Director_parse</th>\n",
       "    </tr>\n",
       "  </thead>\n",
       "  <tbody>\n",
       "    <tr>\n",
       "      <th>0</th>\n",
       "      <td>862</td>\n",
       "      <td>Toy Story</td>\n",
       "      <td>en</td>\n",
       "      <td>[{'iso_639_1': 'en', 'name': 'English'}]</td>\n",
       "      <td>30000000.0</td>\n",
       "      <td>373554033.0</td>\n",
       "      <td>81.0</td>\n",
       "      <td>1995-10-30</td>\n",
       "      <td>[{'name': 'Pixar Animation Studios', 'id': 3}]</td>\n",
       "      <td>[{'iso_3166_1': 'US', 'name': 'United States o...</td>\n",
       "      <td>tt0114709</td>\n",
       "      <td>21.946943</td>\n",
       "      <td>7.7</td>\n",
       "      <td>5415.0</td>\n",
       "      <td>{'id': 10194, 'name': 'Toy Story Collection', ...</td>\n",
       "      <td>NaN</td>\n",
       "      <td>Led by Woody, Andy's toys live happily in his ...</td>\n",
       "      <td>[{'id': 16, 'name': 'Animation'}, {'id': 35, '...</td>\n",
       "      <td>['Animation', 'Comedy', 'Family']</td>\n",
       "      <td>['Toy Story Collection']</td>\n",
       "      <td>['English']</td>\n",
       "      <td>['Pixar Animation Studios']</td>\n",
       "      <td>['United States of America']</td>\n",
       "      <td>['US']</td>\n",
       "      <td>[{'id': 931, 'name': 'jealousy'}, {'id': 4290,...</td>\n",
       "      <td>['jealousy', 'toy', 'boy', 'friendship', 'frie...</td>\n",
       "      <td>['Tom Hanks', 'Tim Allen', 'Don Rickles', 'Jim...</td>\n",
       "      <td>['John Lasseter']</td>\n",
       "    </tr>\n",
       "    <tr>\n",
       "      <th>1</th>\n",
       "      <td>8844</td>\n",
       "      <td>Jumanji</td>\n",
       "      <td>en</td>\n",
       "      <td>[{'iso_639_1': 'en', 'name': 'English'}, {'iso...</td>\n",
       "      <td>65000000.0</td>\n",
       "      <td>262797249.0</td>\n",
       "      <td>104.0</td>\n",
       "      <td>1995-12-15</td>\n",
       "      <td>[{'name': 'TriStar Pictures', 'id': 559}, {'na...</td>\n",
       "      <td>[{'iso_3166_1': 'US', 'name': 'United States o...</td>\n",
       "      <td>tt0113497</td>\n",
       "      <td>17.015539</td>\n",
       "      <td>6.9</td>\n",
       "      <td>2413.0</td>\n",
       "      <td>NaN</td>\n",
       "      <td>Roll the dice and unleash the excitement!</td>\n",
       "      <td>When siblings Judy and Peter discover an encha...</td>\n",
       "      <td>[{'id': 12, 'name': 'Adventure'}, {'id': 14, '...</td>\n",
       "      <td>['Adventure', 'Fantasy', 'Family']</td>\n",
       "      <td>NaN</td>\n",
       "      <td>['English', 'Français']</td>\n",
       "      <td>['TriStar Pictures', 'Teitler Film', 'Intersco...</td>\n",
       "      <td>['United States of America']</td>\n",
       "      <td>['US']</td>\n",
       "      <td>[{'id': 10090, 'name': 'board game'}, {'id': 1...</td>\n",
       "      <td>['board game', 'disappearance', \"based on chil...</td>\n",
       "      <td>['Robin Williams', 'Jonathan Hyde', 'Kirsten D...</td>\n",
       "      <td>['Joe Johnston']</td>\n",
       "    </tr>\n",
       "  </tbody>\n",
       "</table>\n",
       "</div>"
      ],
      "text/plain": [
       "     Id Original_Title Original_Language  \\\n",
       "0   862      Toy Story                en   \n",
       "1  8844        Jumanji                en   \n",
       "\n",
       "                                    Spoken_Languages      Budget      Revenue  \\\n",
       "0           [{'iso_639_1': 'en', 'name': 'English'}]  30000000.0  373554033.0   \n",
       "1  [{'iso_639_1': 'en', 'name': 'English'}, {'iso...  65000000.0  262797249.0   \n",
       "\n",
       "   Runtime Release_Date                               Production_Companies  \\\n",
       "0     81.0   1995-10-30     [{'name': 'Pixar Animation Studios', 'id': 3}]   \n",
       "1    104.0   1995-12-15  [{'name': 'TriStar Pictures', 'id': 559}, {'na...   \n",
       "\n",
       "                                Production_Countries    imdb_id  Popularity  \\\n",
       "0  [{'iso_3166_1': 'US', 'name': 'United States o...  tt0114709   21.946943   \n",
       "1  [{'iso_3166_1': 'US', 'name': 'United States o...  tt0113497   17.015539   \n",
       "\n",
       "   Vote_Average  Vote_Count  \\\n",
       "0           7.7      5415.0   \n",
       "1           6.9      2413.0   \n",
       "\n",
       "                               Belongs_To_Collection  \\\n",
       "0  {'id': 10194, 'name': 'Toy Story Collection', ...   \n",
       "1                                                NaN   \n",
       "\n",
       "                                     Tagline  \\\n",
       "0                                        NaN   \n",
       "1  Roll the dice and unleash the excitement!   \n",
       "\n",
       "                                            Overview  \\\n",
       "0  Led by Woody, Andy's toys live happily in his ...   \n",
       "1  When siblings Judy and Peter discover an encha...   \n",
       "\n",
       "                                              Genres  \\\n",
       "0  [{'id': 16, 'name': 'Animation'}, {'id': 35, '...   \n",
       "1  [{'id': 12, 'name': 'Adventure'}, {'id': 14, '...   \n",
       "\n",
       "                         Genres_Parse Belongs_To_Collection_Parse  \\\n",
       "0   ['Animation', 'Comedy', 'Family']    ['Toy Story Collection']   \n",
       "1  ['Adventure', 'Fantasy', 'Family']                         NaN   \n",
       "\n",
       "    Spoken_Languages_Parse                         Production_Companies_Parse  \\\n",
       "0              ['English']                        ['Pixar Animation Studios']   \n",
       "1  ['English', 'Français']  ['TriStar Pictures', 'Teitler Film', 'Intersco...   \n",
       "\n",
       "     Production_Countries_Parse Production_Countries_Code_Parse  \\\n",
       "0  ['United States of America']                          ['US']   \n",
       "1  ['United States of America']                          ['US']   \n",
       "\n",
       "                                            Keywords  \\\n",
       "0  [{'id': 931, 'name': 'jealousy'}, {'id': 4290,...   \n",
       "1  [{'id': 10090, 'name': 'board game'}, {'id': 1...   \n",
       "\n",
       "                                      Keywords_parse  \\\n",
       "0  ['jealousy', 'toy', 'boy', 'friendship', 'frie...   \n",
       "1  ['board game', 'disappearance', \"based on chil...   \n",
       "\n",
       "                                          Cast_parse     Director_parse  \n",
       "0  ['Tom Hanks', 'Tim Allen', 'Don Rickles', 'Jim...  ['John Lasseter']  \n",
       "1  ['Robin Williams', 'Jonathan Hyde', 'Kirsten D...   ['Joe Johnston']  "
      ]
     },
     "execution_count": 5,
     "metadata": {},
     "output_type": "execute_result"
    }
   ],
   "source": [
    "movies_df.head(2)"
   ]
  },
  {
   "cell_type": "code",
   "execution_count": 58,
   "metadata": {},
   "outputs": [
    {
     "data": {
      "text/plain": [
       "0    [Tom Hanks, Tim Allen, Don Rickles, Jim Varney...\n",
       "1    [Robin Williams, Jonathan Hyde, Kirsten Dunst,...\n",
       "Name: Cast_parse, dtype: object"
      ]
     },
     "execution_count": 58,
     "metadata": {},
     "output_type": "execute_result"
    }
   ],
   "source": [
    "movies_df[\"Cast_parse\"].head(2)"
   ]
  },
  {
   "cell_type": "markdown",
   "metadata": {},
   "source": [
    "**PREDICTION MODEL BASED ON POPULARITY AND ACTORS**"
   ]
  },
  {
   "cell_type": "code",
   "execution_count": 104,
   "metadata": {},
   "outputs": [
    {
     "name": "stdout",
     "output_type": "stream",
     "text": [
      "\n",
      "Top 5 Movies featuring actor 'Dwayne Johnson':\n",
      "\n",
      "Title: The Fate of the Furious\n",
      "Vote Average: 6.8\n",
      "Popularity: 48.573287\n",
      "Cast: Vin Diesel, Jason Statham, Dwayne Johnson, Michelle Rodriguez, Tyrese Gibson, Ludacris, Charlize Theron, Kurt Russell, Nathalie Emmanuel, Luke Evans, Elsa Pataky, Kristofer Hivju, Scott Eastwood, Corey Maher, Tego Calderón, Don Omar, Helen Mirren, Patrick St. Esprit, Eden Estrella, Janmarco Santiago, Luke Hawx, Celestino Cornielle, Olek Krupa, Alexander Babara, Andre Pushkin, Robert Jekabson, Nick Gracer, Gary Weeks, Michael W. Broomer, Theresa Cook, Kim Evans, Oleg Prudius, Connie Kincer, Yassie Hawkes, Destiny Lopez, Anita Farmer Bergman, Friday Chamberlain, Mya Levels, Yuliya Zelenskaya, Trevor Wolf, Megan Marie Wilson, Myrom Kingery, Dominick Wilkins, Shannon Marie Watts, Gary Lee Vincent, Zachary Vazquez, Ronald Joe Vasquez, Alan Tuskes, Mikhail Tot, Branislav R. Tatalovic, Doug Stroup, Eddy Stewart, Shawn Sterba, Nancy Ellen Shore, Jon Komp Shin, Darren Sheehan, Gabrielle Sebben, Ramona Schwalbach, Debbie Scaletta, Melissa Santiago, Mark Salas, Jostein Sagnes, Porche Robinson, Charlie Reyes-Torreblanca, William Cowboy Reed, Ryan Poole, Michelle Poole, Charles Poole, Anthony Vance Pierce, Carmelo Oquendo, Pauline Nowakowski, Darko Nikolic, Ryan Newton, Zoya Naumchik, Doug Meacham, Chris McCail, Faith Logan, Gary Lavard, Özcan Özdemir, Karin Boesler\n",
      "--------------------------------------------------\n",
      "Title: Baywatch\n",
      "Vote Average: 6.1\n",
      "Popularity: 35.637691\n",
      "Cast: Dwayne Johnson, Zac Efron, Alexandra Daddario, Kelly Rohrbach, Priyanka Chopra, Jon Bass, Ilfenesh Hadera, Rob Huebel, Yahya Abdul-Mateen II, John Cenatiempo, Pamela Anderson, Hannibal Buress, Charlotte McKinney, Jack Kesy, David Hasselhoff, Izabel Goulart, Ana Flavia Gavlak, Angelique Kenney, Oscar Nunez, Brandon Larracuente, Maegan Vogel, Haviland Stillwell, Kera Lynn, Whitney Goin, Amin Joseph, Belinda, Lee Hodge, Earl Poitier, Shay Davila, Barbara Vincent, Damon Preston, Bria Danielle Davis, Cody Scott, Samantha Harris, Seth Gordon, Brenda Lowe, Pedro Anaya Pérez, Vincenzo Hinckley, Arian Foster, Karin Silvestri, Tamila Bilalova, Casey McCullum, Zachary Vazquez\n",
      "--------------------------------------------------\n",
      "Title: Furious 7\n",
      "Vote Average: 7.3\n",
      "Popularity: 27.275687\n",
      "Cast: Vin Diesel, Paul Walker, Dwayne Johnson, Michelle Rodriguez, Tyrese Gibson, Ludacris, Jordana Brewster, Djimon Hounsou, Tony Jaa, Ronda Rousey, Nathalie Emmanuel, Kurt Russell, Jason Statham, Sung Kang, Gal Gadot, Lucas Black, Elsa Pataky, Noel Gugliemi, John Brotherton, Luke Evans, Ali Fazal, Miller Kimsey, Charlie Kimsey, Eden Estrella, Gentry White, Iggy Azalea, Jon Lee Brody, Levy Tran, Anna Colwell, Viktor Hernandez, Steve Coulter, Robert Pralgo, Antwan Mills, J.J. Phillips, Jorge Ferragut, Sara Sohn, Benjamin Blankenship, D.J. Hapa, T-Pain, Brian Mahoney, Brittney Alger, Romeo Santos, Jocelin Donahue, Stephanie Langston, Jorge-Luis Pallo, Tego Calderón, Nathalie Kelley, Shad Moss, Don Omar, Klement Tinaj, Caleb Walker, Cody Walker\n",
      "--------------------------------------------------\n",
      "Title: San Andreas\n",
      "Vote Average: 6.0\n",
      "Popularity: 20.547925\n",
      "Cast: Dwayne Johnson, Alexandra Daddario, Carla Gugino, Ioan Gruffudd, Archie Panjabi, Paul Giamatti, Hugo Johnstone-Burt, Art Parkinson, Colton Haynes, Kylie Minogue, Will Yun Lee, Morgan Griffin, Breanne Hill, Todd Williams, Marissa Neitling, Matt Gerald, Alec Utgoff, Laurence Coy, Simone Kessell, Saskia Williscroft, Fiona Press, Arabella Morton, Dennis Coard, Ben McIvor, Nick Allen-Ducat, Claire Lovering, Sophia Emberson-Bain, Julian Shaw, Julie Brandt-Richards, Sofie Formica, Hugh Boddam-Whetham, Brad McMurray, John Reynolds, Hayley Sullivan, Renee Somerfield, Joey Vieira, Benjamin Blankenship, Michael Asberry, Vanessa Ross, Janell Islas, Tom O'Reilly, Hayley Gagner, Andrea Walker, Vanessa Vittorio, Stephen Chang\n",
      "--------------------------------------------------\n",
      "Title: Hercules\n",
      "Vote Average: 5.6\n",
      "Popularity: 19.606895\n",
      "Cast: Dwayne Johnson, Ian McShane, John Hurt, Rufus Sewell, Aksel Hennie, Ingrid Bolsø Berdal, Reece Ritchie, Joseph Fiennes, Tobias Santelmann, Peter Mullan, Rebecca Ferguson, Isaac Andrews, Joe Anderson, Steve Peacocke, Nicholas Moss, Irina Shayk, Robert Maillet, Ian Whyte, Barbara Palvin, Caroline Boulton, Christopher Fairbank, John Cross, Máté Haumann, Matt Devere, Robert Whitelock, Karolina Szymczak\n",
      "--------------------------------------------------\n"
     ]
    }
   ],
   "source": [
    "# Ensure 'Cast_parse' is in list format and handle any non-list or NaN entries\n",
    "movies_df['Cast_parse'] = movies_df['Cast_parse'].apply(lambda x: eval(x) if isinstance(x, str) else x if isinstance(x, list) else [])\n",
    "\n",
    "# Prompting the user to input an actor's name\n",
    "actor_name = input(\"Enter the actor's name: \").strip().lower()\n",
    "\n",
    "# Filtering movies based on the actor's name\n",
    "filtered_movies = movies_df[movies_df['Cast_parse'].apply(lambda cast: any(actor_name == actor.lower().strip() for actor in cast))]\n",
    "\n",
    "# Check if any movies match the actor\n",
    "if filtered_movies.empty:\n",
    "    print(f\"No movies found with actor {actor_name}.\")\n",
    "else:\n",
    "    # Sorting the filtered movies based on the 'Popularity' column in descending order\n",
    "    filtered_movies_sorted = filtered_movies.sort_values(by='Popularity', ascending=False)\n",
    "\n",
    "    # Selecting the top 5 movies\n",
    "    top_5_filtered_movies = filtered_movies_sorted.head(5)\n",
    "\n",
    "    # Formatting the output to look prettier\n",
    "    print(\"\\nTop 5 Movies featuring actor '{}':\\n\".format(actor_name.title()))\n",
    "    for i, row in top_5_filtered_movies.iterrows():\n",
    "        print(f\"Title: {row['Original_Title']}\")\n",
    "        print(f\"Vote Average: {row['Vote_Average']}\")\n",
    "        print(f\"Popularity: {row['Popularity']}\")\n",
    "        print(f\"Cast: {', '.join(row['Cast_parse'])}\")\n",
    "        print(\"-\" * 50)  # Separator line for clarity\n"
   ]
  },
  {
   "cell_type": "markdown",
   "metadata": {},
   "source": [
    "**KNN MODEL**"
   ]
  },
  {
   "cell_type": "markdown",
   "metadata": {},
   "source": [
    "*TfidfVectorizer*: This is a tool from **sklearn** used for converting text data into numerical features. It transforms the textual information in the movie descriptions into a form that can be used by machine learning models.\n"
   ]
  },
  {
   "cell_type": "markdown",
   "metadata": {},
   "source": [
    "*NearestNeighbors*: This is an algorithm from **sklearn** that helps in finding the nearest points (in this case, movies) based on some measure of distance. We use this for recommending similar movies.\n"
   ]
  },
  {
   "cell_type": "markdown",
   "metadata": {},
   "source": [
    "Purpose: Movies have multiple text features (e.g., tagline, overview, and keywords) that describe them. To make the recommendation system more accurate, we combine these features into a single string that describes each movie.\n"
   ]
  },
  {
   "cell_type": "code",
   "execution_count": 8,
   "metadata": {},
   "outputs": [
    {
     "name": "stdout",
     "output_type": "stream",
     "text": [
      "\n",
      "User's Input: batman\n",
      "\n",
      "Top 5 movies similar to batman: \n",
      "\n",
      "9183. Batman Beyond: Return of the Joker (Popularity: 7.872438, Rating: 7.5, Language: en)\n",
      "1484. Batman & Robin (Popularity: 17.038824, Rating: 4.2, Language: en)\n",
      "40976. LEGO DC Comics Super Heroes: Justice League - Gotham City Breakout (Popularity: 3.581416, Rating: 7.0, Language: en)\n",
      "21239. Batman: Mystery of the Batwoman (Popularity: 8.26786, Rating: 6.6, Language: en)\n",
      "10071. Batman Begins (Popularity: 28.505341, Rating: 7.5, Language: en)\n"
     ]
    }
   ],
   "source": [
    "# Combine relevant text features into a single string for vectorization\n",
    "movies_df['combined_features'] = movies_df[['Tagline', 'Overview', 'Keywords_parse']].fillna('').agg(' '.join, axis=1)\n",
    "\n",
    "# Initialize TF-IDF Vectorizer\n",
    "tfidf = TfidfVectorizer(stop_words='english')\n",
    "\n",
    "# Vectorize the combined features\n",
    "tfidf_matrix = tfidf.fit_transform(movies_df['combined_features'])\n",
    "\n",
    "# Initialize the Nearest Neighbors model\n",
    "knn = NearestNeighbors(metric='cosine', algorithm='brute', n_neighbors=5)\n",
    "\n",
    "# Fit the model using the TF-IDF matrix\n",
    "knn.fit(tfidf_matrix)\n",
    "\n",
    "# Function to get top 5 movie recommendations with additional details\n",
    "def get_movie_recommendations(movie_title, model=knn, matrix=tfidf_matrix, data=movies_df):\n",
    "    # Find the index of the input movie\n",
    "    idx = data.index[data['Original_Title'].str.lower() == movie_title.lower()].tolist()\n",
    "    \n",
    "    if len(idx) == 0:\n",
    "        return \"Movie not found in the database.\"\n",
    "    \n",
    "    idx = idx[0]\n",
    "    \n",
    "    # Get the distances and indices of the nearest neighbors\n",
    "    distances, indices = model.kneighbors(matrix[idx], n_neighbors=6)\n",
    "    \n",
    "    # Get the indices of the top 5 similar movies (excluding the input movie itself)\n",
    "    similar_movies_indices = indices.flatten()[1:]\n",
    "    \n",
    "    # Fetch the details of the similar movies\n",
    "    similar_movies = data.iloc[similar_movies_indices][['Original_Title', 'Popularity', 'Vote_Average', 'Original_Language']]\n",
    "    \n",
    "    return similar_movies\n",
    "\n",
    "# Prompt the user for a movie title\n",
    "user_input_movie = input(\"Enter a movie title: \")\n",
    "\n",
    "# Get recommendations based on user input\n",
    "recommendations = get_movie_recommendations(user_input_movie)\n",
    "\n",
    "# Display the recommendations with additional details\n",
    "if isinstance(recommendations, str):\n",
    "    print(recommendations)\n",
    "else:\n",
    "    print(\"\\nUser's Input: {}\".format(user_input_movie))\n",
    "    print(\"\\nTop 5 movies similar to {}: \\n\".format(user_input_movie))\n",
    "    for i, row in recommendations.iterrows():\n",
    "        print(\"{}. {} (Popularity: {}, Rating: {}, Language: {})\".format(i+1, row['Original_Title'], row['Popularity'], row['Vote_Average'], row['Original_Language']))\n"
   ]
  },
  {
   "cell_type": "markdown",
   "metadata": {},
   "source": [
    "**WITH SIMILARITY SCORE**"
   ]
  },
  {
   "cell_type": "markdown",
   "metadata": {},
   "source": [
    "**How Similarity Score is Calculated**"
   ]
  },
  {
   "cell_type": "code",
   "execution_count": 13,
   "metadata": {},
   "outputs": [
    {
     "name": "stdout",
     "output_type": "stream",
     "text": [
      "Movies similar to 'back to the future':\n",
      "                    Original_Title  Similarity_Score\n",
      "1891    Back to the Future Part II          0.321666\n",
      "1892   Back to the Future Part III          0.251560\n",
      "43167                 Time Chasers          0.169823\n",
      "5017              The Time Machine          0.160073\n",
      "26410                    P.U.N.K.S          0.159954\n"
     ]
    },
    {
     "data": {
      "image/png": "[encoded data removed]",
      "text/plain": [
       "<Figure size 640x480 with 1 Axes>"
      ]
     },
     "metadata": {},
     "output_type": "display_data"
    }
   ],
   "source": [
    "import matplotlib.pyplot as plt\n",
    "import numpy as np\n",
    "import pandas as pd\n",
    "from sklearn.feature_extraction.text import TfidfVectorizer\n",
    "from sklearn.neighbors import NearestNeighbors\n",
    "\n",
    "# Combine relevant text features into a single string for vectorization\n",
    "movies_df['combined_features'] = movies_df[['Tagline', 'Overview', 'Keywords_parse']].fillna('').agg(' '.join, axis=1)\n",
    "\n",
    "# Initialize TF-IDF Vectorizer\n",
    "tfidf = TfidfVectorizer(stop_words='english')\n",
    "\n",
    "# Vectorize the combined features\n",
    "tfidf_matrix = tfidf.fit_transform(movies_df['combined_features'])\n",
    "\n",
    "# Initialize the Nearest Neighbors model\n",
    "knn = NearestNeighbors(metric='cosine', algorithm='brute', n_neighbors=5)\n",
    "\n",
    "# Fit the model using the TF-IDF matrix\n",
    "knn.fit(tfidf_matrix)\n",
    "\n",
    "# Function to get top 5 movie recommendations with similarity scores\n",
    "def get_movie_recommendations_with_similarity(movie_title, model=knn, matrix=tfidf_matrix, data=movies_df):\n",
    "    idx = data.index[data['Original_Title'].str.lower() == movie_title.lower()].tolist()\n",
    "    \n",
    "    if len(idx) == 0:\n",
    "        return \"Movie not found in the database.\"\n",
    "    \n",
    "    idx = idx[0]\n",
    "    \n",
    "    distances, indices = model.kneighbors(matrix[idx], n_neighbors=6)\n",
    "    \n",
    "    similar_movies_indices = indices.flatten()[1:]\n",
    "    similar_movies_distances = distances.flatten()[1:]\n",
    "    \n",
    "    similarity_scores = 1 - similar_movies_distances\n",
    "    \n",
    "    similar_movies = data.iloc[similar_movies_indices][['Original_Title']]\n",
    "    similar_movies['Similarity_Score'] = similarity_scores\n",
    "    \n",
    "    return similar_movies\n",
    "\n",
    "# Function to plot cosine similarity visualization\n",
    "def plot_cosine_similarity(movie_title, recommendations_df):\n",
    "    fig, ax = plt.subplots()\n",
    "    \n",
    "    base_similarity = 1.0\n",
    "    movies = [movie_title] + recommendations_df['Original_Title'].tolist()\n",
    "    similarities = [base_similarity] + recommendations_df['Similarity_Score'].tolist()\n",
    "    \n",
    "    angles = np.arccos(similarities)\n",
    "    \n",
    "    for i, angle in enumerate(angles):\n",
    "        x = np.cos(angle)\n",
    "        y = np.sin(angle)\n",
    "        ax.plot([0, x], [0, y], label=movies[i], marker='o')\n",
    "    \n",
    "    ax.set_xlim(-1, 1)\n",
    "    ax.set_ylim(-1, 1)\n",
    "    ax.set_xlabel('Cosine Component')\n",
    "    ax.set_ylabel('Sine Component')\n",
    "    ax.axhline(0, color='grey', lw=0.5)\n",
    "    ax.axvline(0, color='grey', lw=0.5)\n",
    "    \n",
    "    ax.set_title('Cosine Similarity Visualization')\n",
    "    ax.legend()\n",
    "    \n",
    "    plt.grid(True)\n",
    "    plt.show()\n",
    "\n",
    "# Example usage\n",
    "user_input_movie = input(\"Enter a movie title: \")\n",
    "\n",
    "recommendations = get_movie_recommendations_with_similarity(user_input_movie)\n",
    "\n",
    "if isinstance(recommendations, str):\n",
    "    print(recommendations)\n",
    "else:\n",
    "    print(f\"Movies similar to '{user_input_movie}':\")\n",
    "    print(recommendations)\n",
    "    plot_cosine_similarity(user_input_movie, recommendations)\n"
   ]
  }
 ],
 "metadata": {
  "kernelspec": {
   "display_name": "Python 3",
   "language": "python",
   "name": "python3"
  },
  "language_info": {
   "codemirror_mode": {
    "name": "ipython",
    "version": 3
   },
   "file_extension": ".py",
   "mimetype": "text/x-python",
   "name": "python",
   "nbconvert_exporter": "python",
   "pygments_lexer": "ipython3",
   "version": "3.12.4"
  }
 },
 "nbformat": 4,
 "nbformat_minor": 2
}
