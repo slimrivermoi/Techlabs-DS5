{
 "cells": [
  {
   "cell_type": "markdown",
   "metadata": {},
   "source": [
    "Parsing Genres\n",
    "- original codes using replace and json.load"
   ]
  },
  {
   "cell_type": "code",
   "execution_count": null,
   "metadata": {},
   "outputs": [],
   "source": [
    "import json\n",
    "\n",
    "# First - convert ' to \"\n",
    "genres = movies_df.Genres.replace(\"\\'\",\"\\\"\")\n",
    "\n",
    "# Loop the list in the cell to convert to json data. \n",
    "for i in range(len(genres)):\n",
    "    genres[i] = movies_df.Genres[i].replace(\"\\'\",\"\\\"\")\n",
    "    genres[i] = json.loads(genres[i])\n",
    "\n",
    "\n",
    "# parse genres JSON data and save it back as list\n",
    "all_genres = []\n",
    "\n",
    "for each_film in genres:\n",
    "    new_list=[]\n",
    "    for item in each_film:\n",
    "        new_item = item['name']\n",
    "        new_list.append(new_item)\n",
    "    each_film = new_list\n",
    "    # print(each_film)\n",
    "    all_genres.append(each_film)\n",
    "\n",
    "#assign the list as ['Genres']\n",
    "movies_df['Genres'] = all_genres\n",
    "    "
   ]
  }
 ],
 "metadata": {
  "language_info": {
   "name": "python"
  },
  "orig_nbformat": 4
 },
 "nbformat": 4,
 "nbformat_minor": 2
}
