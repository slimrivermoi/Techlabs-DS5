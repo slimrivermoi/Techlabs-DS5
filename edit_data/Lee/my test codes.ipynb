{
 "cells": [
  {
   "cell_type": "markdown",
   "metadata": {},
   "source": [
    "# Parsing data with ast"
   ]
  },
  {
   "cell_type": "markdown",
   "metadata": {},
   "source": [
    "import ast\n",
    "import numpy as np\n",
    "import pandas as pd\n",
    "\n",
    "movies_df = pd.read_csv(\"../../edit_data/cleaned_data/movies.csv\")\n",
    "\n",
    "# Function to parse the string and extract 'name'\n",
    "def extract_names(data_string):\n",
    "    if pd.isna(data_string):\n",
    "        return np.nan\n",
    "    try:\n",
    "        # Safely evaluate the string to a Python object\n",
    "        data_object = ast.literal_eval(data_string)\n",
    "        if isinstance(data_object, list):\n",
    "            # Extract 'name' from each dictionary in the list\n",
    "            names = [item['name'] for item in data_object]\n",
    "            return names\n",
    "        elif isinstance(data_object, dict):\n",
    "            # Extract 'name' from the dictionary\n",
    "            return [data_object.get('name', np.nan)]\n",
    "    except (ValueError, SyntaxError):\n",
    "        return np.nan\n",
    "    \n",
    "movies_df['Genres_Parse'] = movies_df['Genres'].apply(extract_names)\n",
    "movies_df['Belongs_To_Collection_Parse'] = movies_df['Belongs_To_Collection'].apply(extract_names)\n",
    "movies_df['Spoken_Languages_Parse'] = movies_df['Spoken_Languages'].apply(extract_names)\n",
    "movies_df['Production_Companies_Parse'] = movies_df['Production_Companies'].apply(extract_names)\n",
    "movies_df['Production_Countries_Parse'] = movies_df['Production_Countries'].apply(extract_names)\n",
    "\n",
    "movies_df.head()\n"
   ]
  },
  {
   "cell_type": "markdown",
   "metadata": {},
   "source": [
    "### Parse Country Code for ['Production_Countries']"
   ]
  },
  {
   "cell_type": "code",
   "execution_count": null,
   "metadata": {},
   "outputs": [],
   "source": [
    "# Function to parse the string and extract names\n",
    "def extract_country_code(column_string):\n",
    "    # Safely evaluate the string to a Python object\n",
    "    column_list = ast.literal_eval(column_string)\n",
    "    # Extract names\n",
    "    country_code = [column['iso_3166_1'] for column in column_list]\n",
    "    return country_code\n",
    "\n",
    "movies_df['Production_Countries_Code_Parse'] = movies_df['Production_Countries'].apply(extract_country_code)\n"
   ]
  },
  {
   "cell_type": "markdown",
   "metadata": {},
   "source": [
    "Parsing Genres\n",
    "- original codes using replace and json.load"
   ]
  },
  {
   "cell_type": "code",
   "execution_count": null,
   "metadata": {},
   "outputs": [],
   "source": [
    "import json\n",
    "\n",
    "# First - convert ' to \"\n",
    "genres = movies_df.Genres.replace(\"\\'\",\"\\\"\")\n",
    "\n",
    "# Loop the list in the cell to convert to json data. \n",
    "for i in range(len(genres)):\n",
    "    genres[i] = movies_df.Genres[i].replace(\"\\'\",\"\\\"\")\n",
    "    genres[i] = json.loads(genres[i])\n",
    "\n",
    "\n",
    "# parse genres JSON data and save it back as list\n",
    "all_genres = []\n",
    "\n",
    "for each_film in genres:\n",
    "    new_list=[]\n",
    "    for item in each_film:\n",
    "        new_item = item['name']\n",
    "        new_list.append(new_item)\n",
    "    each_film = new_list\n",
    "    # print(each_film)\n",
    "    all_genres.append(each_film)\n",
    "\n",
    "#assign the list as ['Genres']\n",
    "movies_df['Genres'] = all_genres\n",
    "    "
   ]
  }
 ],
 "metadata": {
  "language_info": {
   "name": "python"
  },
  "orig_nbformat": 4
 },
 "nbformat": 4,
 "nbformat_minor": 2
}
