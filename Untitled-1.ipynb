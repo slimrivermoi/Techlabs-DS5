{
 "cells": [
  {
   "cell_type": "code",
   "execution_count": null,
   "metadata": {},
   "outputs": [],
   "source": [
    "import pandas as pd\n",
    "import matplotlib._pylab_helpers as np\n",
    "import json\n",
    "import seaborn as sns\n",
    "import numpy as np"
   ]
  },
  {
   "cell_type": "code",
   "execution_count": null,
   "metadata": {},
   "outputs": [],
   "source": [
    "import pandas as pd\n",
    "import json\n",
    "import re\n",
    "try:\n",
    "    df = pd.read_csv(r\"C:\\Users\\khanz\\OneDrive\\Desktop\\DS5 project\\Techlabs-DS5\\source_data\\credits.csv\", low_memory=False)\n",
    "    print(\"Dataset loaded successfully.\")\n",
    "    print(\"Sample Data:\")\n",
    "    print(df.head())\n",
    "    \n",
    "except FileNotFoundError:\n",
    "    print(\"The file path specified does not exist. Please check the path and try again.\")\n",
    "except Exception as e:\n",
    "    print(f\"An error occurred while loading the dataset: {e}\")\n",
    "    \n",
    "  \n",
    "    def clean_json_string(json_str):\n",
    "        json_str = re.sub(r'\\\\x[0-9A-Fa-f]{2}', '', json_str)\n",
    "        json_str = re.sub(r'\\s+', ' ', json_str)\n",
    "        return json_str\n",
    "    \n",
    "    def safe_json_loads(json_str):\n",
    "        try:\n",
    "            json_str = clean_json_string(json_str)\n",
    "            return json.loads(json_str.replace(\"'\", \"\\\"\"))\n",
    "        except json.JSONDecodeError as e:\n",
    "            print(f\"Failed to parse JSON: {json_str} - Error: {e}\")\n",
    "            return None\n",
    "    \n",
    "    def parse_json_columns(df):\n",
    "        if'cast' in df.columns and 'crew' in df.columns:\n",
    "            df['cast'] = df['cast'].apply(lambda x: json.loads(x.replace(\"'\", \"\\\"\")) if pd.notnull(x) else [])\n",
    "            df['crew'] = df['crew'].apply(lambda x: json.loads(x.replace(\"'\", \"\\\"\")) if pd.notnull(x) else [])\n",
    "            def extract_cast_info(cast_list):\n",
    "                return [{\"Character\": cast['character'], \"Actor\": cast['name']} for cast in cast_list]\n",
    "            def extract_crew_info(crew_list):\n",
    "                return[{\"Department\": crew['department'], \"Job\": crew['job'], \"Name\": crew['name']} for crew in crew_list]\n",
    "            df['cast_info'] = df['cast'].apply(extract_cast_info)\n",
    "            df['crew_info'] = df['crew'].apply(extract_crew_info)\n",
    "            print(\"Formatted Cast Info for first movie:\")\n",
    "            print(df['cast_info'].iloc[0])\n",
    "            print(\"\\nFormatted Crew Info for first movie:\")\n",
    "            print(df['crew_info'].iloc[0])\n",
    "        else:\n",
    "            print(\"The required columns 'cast' and/or 'crew' are not present in the dataset.\")\n",
    "except FileNotFoundError:\n",
    "    print(\"The file path specified does not exist. Please check the path and try again.\")\n",
    "except Exception as e:\n",
    "    print(f\"An error occurred: {e}\")"
   ]
  }
 ],
 "metadata": {
  "kernelspec": {
   "display_name": "Python 3",
   "language": "python",
   "name": "python3"
  },
  "language_info": {
   "codemirror_mode": {
    "name": "ipython",
    "version": 3
   },
   "file_extension": ".py",
   "mimetype": "text/x-python",
   "name": "python",
   "nbconvert_exporter": "python",
   "pygments_lexer": "ipython3",
   "version": "3.12.3"
  }
 },
 "nbformat": 4,
 "nbformat_minor": 2
}
