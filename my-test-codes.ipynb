{
 "cells": [
  {
   "cell_type": "code",
   "execution_count": null,
   "metadata": {},
   "outputs": [],
   "source": [
    "#### test: Parse JSON data in Genres from json to Python object (list)\n",
    "import json\n",
    "import pandas as pd\n",
    "df = pd.read_csv(\"data/movies_metadata.csv\")\n",
    "genres = df.genres.replace(\"\\'\",\"\\\"\")\n",
    "\n",
    "for i in range(len(genres)):\n",
    "    genres[i] = df.genres[i].replace(\"\\'\",\"\\\"\")\n",
    "    # print(genres[i])\n",
    "    genres[i] = json.loads(genres[i])\n"
   ]
  }
 ],
 "metadata": {
  "kernelspec": {
   "display_name": "base",
   "language": "python",
   "name": "python3"
  },
  "language_info": {
   "name": "python",
   "version": "3.11.7"
  },
  "orig_nbformat": 4
 },
 "nbformat": 4,
 "nbformat_minor": 2
}
