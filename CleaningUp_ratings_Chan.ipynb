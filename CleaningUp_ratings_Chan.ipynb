{
 "cells": [
  {
   "cell_type": "code",
   "execution_count": null,
   "metadata": {},
   "outputs": [],
   "source": [
    "import pandas as pd\n",
    "import numpy as np\n",
    "import matplotlib.pylab as plt\n",
    "import seaborn as sns"
   ]
  },
  {
   "cell_type": "code",
   "execution_count": null,
   "metadata": {},
   "outputs": [],
   "source": [
    "ratings_sm_df = pd.read_csv(\"data/ratings_small.csv\")\n",
    "ratings_df = pd.read_csv(\"data/ratings.csv\")"
   ]
  },
  {
   "cell_type": "code",
   "execution_count": null,
   "metadata": {},
   "outputs": [],
   "source": [
    "ratings_sm_df.head()"
   ]
  },
  {
   "cell_type": "code",
   "execution_count": null,
   "metadata": {},
   "outputs": [],
   "source": [
    "ratings_df.head()"
   ]
  },
  {
   "cell_type": "code",
   "execution_count": null,
   "metadata": {},
   "outputs": [],
   "source": [
    "# # Define the columns to compare\n",
    "# columns_to_compare = [\"userId\", \"movieId\", \"rating\", \"timestamp\"]\n",
    "\n",
    "# # Merge the DataFrames based on these columns\n",
    "# common_data = pd.merge(ratings_df, ratings_sm_df, on=columns_to_compare, how=\"inner\")\n",
    "\n",
    "# # Count the number of common rows\n",
    "# num_common_rows = common_data.shape[0]\n",
    "\n",
    "# print(\"Number of duplicates in df1 that are also found in df2 based on specified columns: \", num_common_rows)\n"
   ]
  },
  {
   "cell_type": "code",
   "execution_count": 10,
   "metadata": {},
   "outputs": [
    {
     "name": "stdout",
     "output_type": "stream",
     "text": [
      "ratings small:\n",
      "        userId  movieId  rating   timestamp\n",
      "0            1       31     2.5  1260759144\n",
      "1            1     1029     3.0  1260759179\n",
      "2            1     1061     3.0  1260759182\n",
      "3            1     1129     2.0  1260759185\n",
      "4            1     1172     4.0  1260759205\n",
      "...        ...      ...     ...         ...\n",
      "99999      671     6268     2.5  1065579370\n",
      "100000     671     6269     4.0  1065149201\n",
      "100001     671     6365     4.0  1070940363\n",
      "100002     671     6385     2.5  1070979663\n",
      "100003     671     6565     3.5  1074784724\n",
      "\n",
      "[100004 rows x 4 columns]\n",
      "ratings:\n",
      "          userId  movieId  rating   timestamp\n",
      "0              1      110     1.0  1425941529\n",
      "1              1      147     4.5  1425942435\n",
      "2              1      858     5.0  1425941523\n",
      "3              1     1221     5.0  1425941546\n",
      "4              1     1246     5.0  1425941556\n",
      "...          ...      ...     ...         ...\n",
      "26024284  270896    58559     5.0  1257031564\n",
      "26024285  270896    60069     5.0  1257032032\n",
      "26024286  270896    63082     4.5  1257031764\n",
      "26024287  270896    64957     4.5  1257033990\n",
      "26024288  270896    71878     2.0  1257031858\n",
      "\n",
      "[26024289 rows x 4 columns]\n"
     ]
    }
   ],
   "source": [
    "# Display the first few rows of each DataFrame to understand their structure\n",
    "print(\"ratings small:\")\n",
    "print(ratings_sm_df)\n",
    "\n",
    "print(\"ratings:\")\n",
    "print(ratings_df)"
   ]
  },
  {
   "cell_type": "code",
   "execution_count": 12,
   "metadata": {},
   "outputs": [],
   "source": [
    "common_columns = ['userId', 'movieId', 'rating']\n",
    "\n",
    "# Merge the DataFrames to find duplicates\n",
    "merged_df = pd.merge(ratings_df, ratings_sm_df, on=common_columns, how='inner')\n"
   ]
  },
  {
   "cell_type": "code",
   "execution_count": 18,
   "metadata": {},
   "outputs": [
    {
     "name": "stdout",
     "output_type": "stream",
     "text": [
      "Number of duplicates: 1352\n",
      "There are duplicates between the datasets.\n",
      "      userId  movieId  rating  timestamp_x  timestamp_y\n",
      "0          4     1097     5.0   1042667925    949778771\n",
      "1          8      318     5.0   1013444101   1154464714\n",
      "2          8     1210     4.0   1013442408   1154464769\n",
      "3          8     1265     3.0   1013442825   1154465230\n",
      "4          9      497     4.0   1061916288    938628777\n",
      "...      ...      ...     ...          ...          ...\n",
      "1347     665     4027     4.0   1449277126   1010197801\n",
      "1348     667      345     5.0    925827634    847271720\n",
      "1349     667      736     4.0    925827222    847271443\n",
      "1350     668      593     5.0    833918976    993613478\n",
      "1351     670      593     5.0   1444964576    938782234\n",
      "\n",
      "[1352 rows x 5 columns]\n"
     ]
    }
   ],
   "source": [
    "# Check for duplicates and display them\n",
    "duplicate_count = merged_df.shape[0]\n",
    "print(f'Number of duplicates: {duplicate_count}')\n",
    "\n",
    "if duplicate_count > 0:\n",
    "    print('There are duplicates between the datasets.')\n",
    "    print(merged_df)\n",
    "else:\n",
    "    print('There are no duplicates between the datasets.')"
   ]
  },
  {
   "cell_type": "code",
   "execution_count": 21,
   "metadata": {},
   "outputs": [
    {
     "name": "stdout",
     "output_type": "stream",
     "text": [
      "        userId  movieId  rating  timestamp_x  timestamp_y\n",
      "0            1       31     2.5   1260759144          NaN\n",
      "1            1     1029     3.0   1260759179          NaN\n",
      "2            1     1061     3.0   1260759182          NaN\n",
      "3            1     1129     2.0   1260759185          NaN\n",
      "4            1     1172     4.0   1260759205          NaN\n",
      "...        ...      ...     ...          ...          ...\n",
      "99999      671     6268     2.5   1065579370          NaN\n",
      "100000     671     6269     4.0   1065149201          NaN\n",
      "100001     671     6365     4.0   1070940363          NaN\n",
      "100002     671     6385     2.5   1070979663          NaN\n",
      "100003     671     6565     3.5   1074784724          NaN\n",
      "\n",
      "[98652 rows x 5 columns]\n"
     ]
    }
   ],
   "source": [
    "# Identify common columns\n",
    "common_columns = ['userId', 'movieId', 'rating']\n",
    "\n",
    "# Merge the DataFrames with an indicator to identify the source of each row\n",
    "merged_df = pd.merge(ratings_sm_df, ratings_df, on=common_columns, how='left', indicator=True)\n",
    "\n",
    "# Filter to get rows that are only in ratings_sm_df\n",
    "non_duplicates = merged_df[merged_df['_merge'] == 'left_only']\n",
    "\n",
    "# Drop the '_merge' column as it is no longer needed\n",
    "non_duplicates = non_duplicates.drop(columns=['_merge'])\n",
    "\n",
    "# Display the non-duplicate rows\n",
    "print(non_duplicates)\n"
   ]
  },
  {
   "cell_type": "code",
   "execution_count": 22,
   "metadata": {},
   "outputs": [
    {
     "data": {
      "text/html": [
       "<div>\n",
       "<style scoped>\n",
       "    .dataframe tbody tr th:only-of-type {\n",
       "        vertical-align: middle;\n",
       "    }\n",
       "\n",
       "    .dataframe tbody tr th {\n",
       "        vertical-align: top;\n",
       "    }\n",
       "\n",
       "    .dataframe thead th {\n",
       "        text-align: right;\n",
       "    }\n",
       "</style>\n",
       "<table border=\"1\" class=\"dataframe\">\n",
       "  <thead>\n",
       "    <tr style=\"text-align: right;\">\n",
       "      <th></th>\n",
       "      <th>userId</th>\n",
       "      <th>movieId</th>\n",
       "      <th>rating</th>\n",
       "      <th>timestamp</th>\n",
       "    </tr>\n",
       "  </thead>\n",
       "  <tbody>\n",
       "    <tr>\n",
       "      <th>0</th>\n",
       "      <td>1</td>\n",
       "      <td>31</td>\n",
       "      <td>2.5</td>\n",
       "      <td>1260759144</td>\n",
       "    </tr>\n",
       "    <tr>\n",
       "      <th>1</th>\n",
       "      <td>1</td>\n",
       "      <td>1029</td>\n",
       "      <td>3.0</td>\n",
       "      <td>1260759179</td>\n",
       "    </tr>\n",
       "    <tr>\n",
       "      <th>2</th>\n",
       "      <td>1</td>\n",
       "      <td>1061</td>\n",
       "      <td>3.0</td>\n",
       "      <td>1260759182</td>\n",
       "    </tr>\n",
       "    <tr>\n",
       "      <th>3</th>\n",
       "      <td>1</td>\n",
       "      <td>1129</td>\n",
       "      <td>2.0</td>\n",
       "      <td>1260759185</td>\n",
       "    </tr>\n",
       "    <tr>\n",
       "      <th>4</th>\n",
       "      <td>1</td>\n",
       "      <td>1172</td>\n",
       "      <td>4.0</td>\n",
       "      <td>1260759205</td>\n",
       "    </tr>\n",
       "    <tr>\n",
       "      <th>...</th>\n",
       "      <td>...</td>\n",
       "      <td>...</td>\n",
       "      <td>...</td>\n",
       "      <td>...</td>\n",
       "    </tr>\n",
       "    <tr>\n",
       "      <th>99999</th>\n",
       "      <td>671</td>\n",
       "      <td>6268</td>\n",
       "      <td>2.5</td>\n",
       "      <td>1065579370</td>\n",
       "    </tr>\n",
       "    <tr>\n",
       "      <th>100000</th>\n",
       "      <td>671</td>\n",
       "      <td>6269</td>\n",
       "      <td>4.0</td>\n",
       "      <td>1065149201</td>\n",
       "    </tr>\n",
       "    <tr>\n",
       "      <th>100001</th>\n",
       "      <td>671</td>\n",
       "      <td>6365</td>\n",
       "      <td>4.0</td>\n",
       "      <td>1070940363</td>\n",
       "    </tr>\n",
       "    <tr>\n",
       "      <th>100002</th>\n",
       "      <td>671</td>\n",
       "      <td>6385</td>\n",
       "      <td>2.5</td>\n",
       "      <td>1070979663</td>\n",
       "    </tr>\n",
       "    <tr>\n",
       "      <th>100003</th>\n",
       "      <td>671</td>\n",
       "      <td>6565</td>\n",
       "      <td>3.5</td>\n",
       "      <td>1074784724</td>\n",
       "    </tr>\n",
       "  </tbody>\n",
       "</table>\n",
       "<p>100004 rows × 4 columns</p>\n",
       "</div>"
      ],
      "text/plain": [
       "        userId  movieId  rating   timestamp\n",
       "0            1       31     2.5  1260759144\n",
       "1            1     1029     3.0  1260759179\n",
       "2            1     1061     3.0  1260759182\n",
       "3            1     1129     2.0  1260759185\n",
       "4            1     1172     4.0  1260759205\n",
       "...        ...      ...     ...         ...\n",
       "99999      671     6268     2.5  1065579370\n",
       "100000     671     6269     4.0  1065149201\n",
       "100001     671     6365     4.0  1070940363\n",
       "100002     671     6385     2.5  1070979663\n",
       "100003     671     6565     3.5  1074784724\n",
       "\n",
       "[100004 rows x 4 columns]"
      ]
     },
     "execution_count": 22,
     "metadata": {},
     "output_type": "execute_result"
    }
   ],
   "source": [
    "ratings_sm_df"
   ]
  }
 ],
 "metadata": {
  "kernelspec": {
   "display_name": "Python 3",
   "language": "python",
   "name": "python3"
  },
  "language_info": {
   "codemirror_mode": {
    "name": "ipython",
    "version": 3
   },
   "file_extension": ".py",
   "mimetype": "text/x-python",
   "name": "python",
   "nbconvert_exporter": "python",
   "pygments_lexer": "ipython3",
   "version": "3.12.3"
  }
 },
 "nbformat": 4,
 "nbformat_minor": 2
}
